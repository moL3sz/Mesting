{
 "cells": [
  {
   "attachments": {},
   "cell_type": "markdown",
   "metadata": {},
   "source": [
    "# Kényszerkielégítés\n",
    "\n",
    "---\n",
    "\n",
    "\n",
    "**Általános keresési probláma**\n",
    "* Az állapot egy fekete doboz\n",
    "* Az állaptot bármilyen adatstruktúra ábrázolja\n",
    "* Csak az állapotátmenete, heurisztika és célállapot legyen implementálva\n",
    "\n",
    "**Kényszerkielégítés probláma**\n",
    "* Az állapott D<sub>i</sub> tartományból származó X<sub>i</sub> változókkal definiáljuk\n",
    "* A célteszt kényszer halmza, mely mindegyike a változó egy részhalmazát és megfelelő értékeket tartalmaz\n",
    "  \n",
    "\n"
   ]
  },
  {
   "attachments": {},
   "cell_type": "markdown",
   "metadata": {},
   "source": []
  },
  {
   "cell_type": "code",
   "execution_count": 114,
   "metadata": {},
   "outputs": [],
   "source": [
    "#minden sor egy cúcs\n",
    "# minden oszlop az hogy ki a neki szomszédja\n",
    "\n",
    "graph = [\n",
    "    [0,1,1,0,0,0],\n",
    "    [1,0,1,1,1,1],\n",
    "    [1,1,0,1,1,1],\n",
    "    [0,1,1,0,1,0],\n",
    "    [0,1,1,1,0,1],\n",
    "    [0,1,1,0,1,0]\n",
    "    ]\n"
   ]
  },
  {
   "cell_type": "code",
   "execution_count": 115,
   "metadata": {},
   "outputs": [
    {
     "data": {
      "image/png": "[encoded data removed]",
      "text/plain": [
       "<Figure size 432x288 with 1 Axes>"
      ]
     },
     "metadata": {},
     "output_type": "display_data"
    }
   ],
   "source": [
    "import networkx as nx\n",
    "import matplotlib.pyplot as plt\n",
    "\n",
    "G = nx.Graph()\n",
    "for i in range(len(graph)):\n",
    "    for j in range(i+1, len(graph)):\n",
    "        if graph[i][j]:\n",
    "            G.add_edge(i,j)\n",
    "\n",
    "\n",
    "pos  = nx.spring_layout(G)\n",
    "nx.draw(G,pos)\n",
    "nx.draw_networkx_labels(G,pos)\n",
    "plt.show()"
   ]
  },
  {
   "cell_type": "code",
   "execution_count": 116,
   "metadata": {},
   "outputs": [],
   "source": [
    "def is_safe(graph, color, v, c):\n",
    "    for i in range(len(graph)):\n",
    "        if graph[v][i] and c == color[i]:\n",
    "            return False\n",
    "    return True"
   ]
  },
  {
   "cell_type": "code",
   "execution_count": 117,
   "metadata": {},
   "outputs": [],
   "source": [
    "def backtracking(graph, graph_colors, v, colors):\n",
    "    \"\"\"Ha nem tudunk kövi állapotot rakni akkor az előzőt máshogy rakjuk stb...\"\"\"\n",
    "\n",
    "    if v == len(graph):\n",
    "        return True\n",
    "\n",
    "    for c in range(colors):\n",
    "\n",
    "        if is_safe(graph, graph_colors, v, c):\n",
    "\n",
    "            # v csúcs c szinnel\n",
    "            graph_colors[v] = c\n",
    "\n",
    "            # megprobaljuk kiszenezni a kövi csucsot\n",
    "            if backtracking(graph, graph_colors, v+1, colors):\n",
    "                return True\n",
    "\n",
    "            graph_colors[v] = -1\n",
    "    return False\n"
   ]
  },
  {
   "cell_type": "code",
   "execution_count": 118,
   "metadata": {},
   "outputs": [],
   "source": [
    "def graph_coloring(graph, colors):\n",
    "\n",
    "    n = len(graph)\n",
    "\n",
    "    graph_colors = [-1]*n\n",
    "    graph_colors[0] = 0\n",
    "\n",
    "    if not backtracking(graph, graph_colors, 0, colors):\n",
    "        return None\n",
    "\n",
    "    return graph_colors\n"
   ]
  },
  {
   "cell_type": "code",
   "execution_count": 119,
   "metadata": {},
   "outputs": [
    {
     "name": "stdout",
     "output_type": "stream",
     "text": [
      "Szinek:  [0, 1, 2, 0, 3, 0]\n"
     ]
    }
   ],
   "source": [
    "\n",
    "colors = 4\n",
    "\n",
    "grap_colors = graph_coloring(graph, colors)\n",
    "print(\"Szinek: \", grap_colors)\n"
   ]
  },
  {
   "cell_type": "code",
   "execution_count": 120,
   "metadata": {},
   "outputs": [],
   "source": [
    "def is_sage_csp(graph, colors):\n",
    "\n",
    "    for i in range(len(graph)):\n",
    "        for j in range(i+1, len(graph)):\n",
    "            if graph[i][j] and colors[i] == colors[j]:\n",
    "                return False\n",
    "    return True"
   ]
  },
  {
   "cell_type": "code",
   "execution_count": 121,
   "metadata": {},
   "outputs": [],
   "source": [
    "def graph_coloring_csp(graph, colors, v, graph_colors):\n",
    "    if v == len(graph):\n",
    "\n",
    "        if is_sage_csp(graph, grap_colors):\n",
    "            print(graph_colors)\n",
    "            return True\n",
    "        \n",
    "        else:\n",
    "            return False\n",
    "    for i in range(colors):\n",
    "        grap_colors[v] = i\n",
    "        if graph_coloring_csp(graph, colors, v+1, graph_colors):\n",
    "            return True\n",
    "        graph_colors[v] = -1\n",
    "        \n"
   ]
  },
  {
   "cell_type": "code",
   "execution_count": 122,
   "metadata": {},
   "outputs": [
    {
     "ename": "IndexError",
     "evalue": "list assignment index out of range",
     "output_type": "error",
     "traceback": [
      "\u001b[0;31m---------------------------------------------------------------------------\u001b[0m",
      "\u001b[0;31mIndexError\u001b[0m                                Traceback (most recent call last)",
      "\u001b[1;32m/home/molesz/Desktop/Egyetem/Mestint/week7/week7.ipynb Cell 11\u001b[0m in \u001b[0;36m<cell line: 3>\u001b[0;34m()\u001b[0m\n\u001b[1;32m      <a href='vscode-notebook-cell:/home/molesz/Desktop/Egyetem/Mestint/week7/week7.ipynb#X15sZmlsZQ%3D%3D?line=0'>1</a>\u001b[0m colors \u001b[39m=\u001b[39m \u001b[39m4\u001b[39m\n\u001b[1;32m      <a href='vscode-notebook-cell:/home/molesz/Desktop/Egyetem/Mestint/week7/week7.ipynb#X15sZmlsZQ%3D%3D?line=1'>2</a>\u001b[0m grap_colors \u001b[39m=\u001b[39m [\u001b[39m-\u001b[39m\u001b[39m1\u001b[39m]\u001b[39m*\u001b[39m\u001b[39mlen\u001b[39m(graph)\n\u001b[0;32m----> <a href='vscode-notebook-cell:/home/molesz/Desktop/Egyetem/Mestint/week7/week7.ipynb#X15sZmlsZQ%3D%3D?line=2'>3</a>\u001b[0m graph_coloring_csp(graph,colors, \u001b[39m0\u001b[39;49m,grap_colors)\n",
      "\u001b[1;32m/home/molesz/Desktop/Egyetem/Mestint/week7/week7.ipynb Cell 11\u001b[0m in \u001b[0;36mgraph_coloring_csp\u001b[0;34m(graph, colors, v, graph_colors)\u001b[0m\n\u001b[1;32m     <a href='vscode-notebook-cell:/home/molesz/Desktop/Egyetem/Mestint/week7/week7.ipynb#X15sZmlsZQ%3D%3D?line=9'>10</a>\u001b[0m \u001b[39mfor\u001b[39;00m i \u001b[39min\u001b[39;00m \u001b[39mrange\u001b[39m(colors):\n\u001b[1;32m     <a href='vscode-notebook-cell:/home/molesz/Desktop/Egyetem/Mestint/week7/week7.ipynb#X15sZmlsZQ%3D%3D?line=10'>11</a>\u001b[0m     grap_colors[v] \u001b[39m=\u001b[39m i\n\u001b[0;32m---> <a href='vscode-notebook-cell:/home/molesz/Desktop/Egyetem/Mestint/week7/week7.ipynb#X15sZmlsZQ%3D%3D?line=11'>12</a>\u001b[0m     \u001b[39mif\u001b[39;00m graph_coloring_csp(graph, colors, v\u001b[39m+\u001b[39;49m\u001b[39m1\u001b[39;49m, graph_colors):\n\u001b[1;32m     <a href='vscode-notebook-cell:/home/molesz/Desktop/Egyetem/Mestint/week7/week7.ipynb#X15sZmlsZQ%3D%3D?line=12'>13</a>\u001b[0m         \u001b[39mreturn\u001b[39;00m \u001b[39mTrue\u001b[39;00m\n\u001b[1;32m     <a href='vscode-notebook-cell:/home/molesz/Desktop/Egyetem/Mestint/week7/week7.ipynb#X15sZmlsZQ%3D%3D?line=13'>14</a>\u001b[0m     graph_colors[v] \u001b[39m=\u001b[39m \u001b[39m-\u001b[39m\u001b[39m1\u001b[39m\n",
      "\u001b[1;32m/home/molesz/Desktop/Egyetem/Mestint/week7/week7.ipynb Cell 11\u001b[0m in \u001b[0;36mgraph_coloring_csp\u001b[0;34m(graph, colors, v, graph_colors)\u001b[0m\n\u001b[1;32m     <a href='vscode-notebook-cell:/home/molesz/Desktop/Egyetem/Mestint/week7/week7.ipynb#X15sZmlsZQ%3D%3D?line=9'>10</a>\u001b[0m \u001b[39mfor\u001b[39;00m i \u001b[39min\u001b[39;00m \u001b[39mrange\u001b[39m(colors):\n\u001b[1;32m     <a href='vscode-notebook-cell:/home/molesz/Desktop/Egyetem/Mestint/week7/week7.ipynb#X15sZmlsZQ%3D%3D?line=10'>11</a>\u001b[0m     grap_colors[v] \u001b[39m=\u001b[39m i\n\u001b[0;32m---> <a href='vscode-notebook-cell:/home/molesz/Desktop/Egyetem/Mestint/week7/week7.ipynb#X15sZmlsZQ%3D%3D?line=11'>12</a>\u001b[0m     \u001b[39mif\u001b[39;00m graph_coloring_csp(graph, colors, v\u001b[39m+\u001b[39;49m\u001b[39m1\u001b[39;49m, graph_colors):\n\u001b[1;32m     <a href='vscode-notebook-cell:/home/molesz/Desktop/Egyetem/Mestint/week7/week7.ipynb#X15sZmlsZQ%3D%3D?line=12'>13</a>\u001b[0m         \u001b[39mreturn\u001b[39;00m \u001b[39mTrue\u001b[39;00m\n\u001b[1;32m     <a href='vscode-notebook-cell:/home/molesz/Desktop/Egyetem/Mestint/week7/week7.ipynb#X15sZmlsZQ%3D%3D?line=13'>14</a>\u001b[0m     graph_colors[v] \u001b[39m=\u001b[39m \u001b[39m-\u001b[39m\u001b[39m1\u001b[39m\n",
      "    \u001b[0;31m[... skipping similar frames: graph_coloring_csp at line 12 (3 times)]\u001b[0m\n",
      "\u001b[1;32m/home/molesz/Desktop/Egyetem/Mestint/week7/week7.ipynb Cell 11\u001b[0m in \u001b[0;36mgraph_coloring_csp\u001b[0;34m(graph, colors, v, graph_colors)\u001b[0m\n\u001b[1;32m     <a href='vscode-notebook-cell:/home/molesz/Desktop/Egyetem/Mestint/week7/week7.ipynb#X15sZmlsZQ%3D%3D?line=9'>10</a>\u001b[0m \u001b[39mfor\u001b[39;00m i \u001b[39min\u001b[39;00m \u001b[39mrange\u001b[39m(colors):\n\u001b[1;32m     <a href='vscode-notebook-cell:/home/molesz/Desktop/Egyetem/Mestint/week7/week7.ipynb#X15sZmlsZQ%3D%3D?line=10'>11</a>\u001b[0m     grap_colors[v] \u001b[39m=\u001b[39m i\n\u001b[0;32m---> <a href='vscode-notebook-cell:/home/molesz/Desktop/Egyetem/Mestint/week7/week7.ipynb#X15sZmlsZQ%3D%3D?line=11'>12</a>\u001b[0m     \u001b[39mif\u001b[39;00m graph_coloring_csp(graph, colors, v\u001b[39m+\u001b[39;49m\u001b[39m1\u001b[39;49m, graph_colors):\n\u001b[1;32m     <a href='vscode-notebook-cell:/home/molesz/Desktop/Egyetem/Mestint/week7/week7.ipynb#X15sZmlsZQ%3D%3D?line=12'>13</a>\u001b[0m         \u001b[39mreturn\u001b[39;00m \u001b[39mTrue\u001b[39;00m\n\u001b[1;32m     <a href='vscode-notebook-cell:/home/molesz/Desktop/Egyetem/Mestint/week7/week7.ipynb#X15sZmlsZQ%3D%3D?line=13'>14</a>\u001b[0m     graph_colors[v] \u001b[39m=\u001b[39m \u001b[39m-\u001b[39m\u001b[39m1\u001b[39m\n",
      "\u001b[1;32m/home/molesz/Desktop/Egyetem/Mestint/week7/week7.ipynb Cell 11\u001b[0m in \u001b[0;36mgraph_coloring_csp\u001b[0;34m(graph, colors, v, graph_colors)\u001b[0m\n\u001b[1;32m      <a href='vscode-notebook-cell:/home/molesz/Desktop/Egyetem/Mestint/week7/week7.ipynb#X15sZmlsZQ%3D%3D?line=0'>1</a>\u001b[0m \u001b[39mdef\u001b[39;00m \u001b[39mgraph_coloring_csp\u001b[39m(graph, colors, v, graph_colors):\n\u001b[1;32m      <a href='vscode-notebook-cell:/home/molesz/Desktop/Egyetem/Mestint/week7/week7.ipynb#X15sZmlsZQ%3D%3D?line=1'>2</a>\u001b[0m     \u001b[39mif\u001b[39;00m v \u001b[39m==\u001b[39m \u001b[39mlen\u001b[39m(graph):\n\u001b[0;32m----> <a href='vscode-notebook-cell:/home/molesz/Desktop/Egyetem/Mestint/week7/week7.ipynb#X15sZmlsZQ%3D%3D?line=3'>4</a>\u001b[0m         \u001b[39mif\u001b[39;00m graph_coloring_csp(graph, colors, v\u001b[39m+\u001b[39;49m\u001b[39m1\u001b[39;49m, graph_colors):\n\u001b[1;32m      <a href='vscode-notebook-cell:/home/molesz/Desktop/Egyetem/Mestint/week7/week7.ipynb#X15sZmlsZQ%3D%3D?line=4'>5</a>\u001b[0m             \u001b[39mprint\u001b[39m(graph_colors)\n\u001b[1;32m      <a href='vscode-notebook-cell:/home/molesz/Desktop/Egyetem/Mestint/week7/week7.ipynb#X15sZmlsZQ%3D%3D?line=5'>6</a>\u001b[0m             \u001b[39mreturn\u001b[39;00m \u001b[39mTrue\u001b[39;00m\n",
      "\u001b[1;32m/home/molesz/Desktop/Egyetem/Mestint/week7/week7.ipynb Cell 11\u001b[0m in \u001b[0;36mgraph_coloring_csp\u001b[0;34m(graph, colors, v, graph_colors)\u001b[0m\n\u001b[1;32m      <a href='vscode-notebook-cell:/home/molesz/Desktop/Egyetem/Mestint/week7/week7.ipynb#X15sZmlsZQ%3D%3D?line=8'>9</a>\u001b[0m         \u001b[39mreturn\u001b[39;00m \u001b[39mFalse\u001b[39;00m\n\u001b[1;32m     <a href='vscode-notebook-cell:/home/molesz/Desktop/Egyetem/Mestint/week7/week7.ipynb#X15sZmlsZQ%3D%3D?line=9'>10</a>\u001b[0m \u001b[39mfor\u001b[39;00m i \u001b[39min\u001b[39;00m \u001b[39mrange\u001b[39m(colors):\n\u001b[0;32m---> <a href='vscode-notebook-cell:/home/molesz/Desktop/Egyetem/Mestint/week7/week7.ipynb#X15sZmlsZQ%3D%3D?line=10'>11</a>\u001b[0m     grap_colors[v] \u001b[39m=\u001b[39m i\n\u001b[1;32m     <a href='vscode-notebook-cell:/home/molesz/Desktop/Egyetem/Mestint/week7/week7.ipynb#X15sZmlsZQ%3D%3D?line=11'>12</a>\u001b[0m     \u001b[39mif\u001b[39;00m graph_coloring_csp(graph, colors, v\u001b[39m+\u001b[39m\u001b[39m1\u001b[39m, graph_colors):\n\u001b[1;32m     <a href='vscode-notebook-cell:/home/molesz/Desktop/Egyetem/Mestint/week7/week7.ipynb#X15sZmlsZQ%3D%3D?line=12'>13</a>\u001b[0m         \u001b[39mreturn\u001b[39;00m \u001b[39mTrue\u001b[39;00m\n",
      "\u001b[0;31mIndexError\u001b[0m: list assignment index out of range"
     ]
    }
   ],
   "source": [
    "colors = 4\n",
    "grap_colors = [-1]*len(graph)\n",
    "graph_coloring_csp(graph,colors, 0,grap_colors)"
   ]
  }
 ],
 "metadata": {
  "language_info": {
   "name": "python"
  },
  "orig_nbformat": 4
 },
 "nbformat": 4,
 "nbformat_minor": 2
}
