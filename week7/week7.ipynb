{
 "cells": [
  {
   "attachments": {},
   "cell_type": "markdown",
   "metadata": {},
   "source": [
    "# Kényszerkielégítés\n",
    "\n",
    "---\n",
    "\n",
    "\n",
    "**Általános keresési probláma**\n",
    "* Az állapot egy fekete doboz\n",
    "* Az állaptot bármilyen adatstruktúra ábrázolja\n",
    "* Csak az állapotátmenete, heurisztika és célállapot legyen implementálva\n",
    "\n",
    "**Kényszerkielégítés probláma**\n",
    "* Az állapott D<sub>i</sub> tartományból származó X<sub>i</sub> változókkal definiáljuk\n",
    "* A célteszt kényszer halmza, mely mindegyike a változó egy részhalmazát és megfelelő értékeket tartalmaz\n",
    "  \n",
    "\n"
   ]
  },
  {
   "attachments": {},
   "cell_type": "markdown",
   "metadata": {},
   "source": []
  },
  {
   "cell_type": "code",
   "execution_count": 123,
   "metadata": {},
   "outputs": [],
   "source": [
    "#minden sor egy cúcs\n",
    "# minden oszlop az hogy ki a neki szomszédja\n",
    "\n",
    "graph = [\n",
    "    [0,1,1,0,0,0],\n",
    "    [1,0,1,1,1,1],\n",
    "    [1,1,0,1,1,1],\n",
    "    [0,1,1,0,1,0],\n",
    "    [0,1,1,1,0,1],\n",
    "    [0,1,1,0,1,0]\n",
    "    ]\n"
   ]
  },
  {
   "cell_type": "code",
   "execution_count": 124,
   "metadata": {},
   "outputs": [
    {
     "data": {
      "image/png": "[encoded data removed]",
      "text/plain": [
       "<Figure size 432x288 with 1 Axes>"
      ]
     },
     "metadata": {},
     "output_type": "display_data"
    }
   ],
   "source": [
    "import networkx as nx\n",
    "import matplotlib.pyplot as plt\n",
    "\n",
    "G = nx.Graph()\n",
    "for i in range(len(graph)):\n",
    "    for j in range(i+1, len(graph)):\n",
    "        if graph[i][j]:\n",
    "            G.add_edge(i,j)\n",
    "\n",
    "\n",
    "pos  = nx.spring_layout(G)\n",
    "nx.draw(G,pos)\n",
    "nx.draw_networkx_labels(G,pos)\n",
    "plt.show()"
   ]
  },
  {
   "cell_type": "code",
   "execution_count": 125,
   "metadata": {},
   "outputs": [],
   "source": [
    "def is_safe(graph, color, v, c):\n",
    "    for i in range(len(graph)):\n",
    "        if graph[v][i] and c == color[i]:\n",
    "            return False\n",
    "    return True"
   ]
  },
  {
   "cell_type": "code",
   "execution_count": 126,
   "metadata": {},
   "outputs": [],
   "source": [
    "def backtracking(graph, graph_colors, v, colors):\n",
    "    \"\"\"Ha nem tudunk kövi állapotot rakni akkor az előzőt máshogy rakjuk stb...\"\"\"\n",
    "\n",
    "    if v == len(graph):\n",
    "        return True\n",
    "\n",
    "    for c in range(colors):\n",
    "\n",
    "        if is_safe(graph, graph_colors, v, c):\n",
    "\n",
    "            # v csúcs c szinnel\n",
    "            graph_colors[v] = c\n",
    "\n",
    "            # megprobaljuk kiszenezni a kövi csucsot\n",
    "            if backtracking(graph, graph_colors, v+1, colors):\n",
    "                return True\n",
    "\n",
    "            graph_colors[v] = -1\n",
    "    return False\n"
   ]
  },
  {
   "cell_type": "code",
   "execution_count": 127,
   "metadata": {},
   "outputs": [],
   "source": [
    "def graph_coloring(graph, colors):\n",
    "\n",
    "    n = len(graph)\n",
    "\n",
    "    graph_colors = [-1]*n\n",
    "    graph_colors[0] = 0\n",
    "\n",
    "    if not backtracking(graph, graph_colors, 0, colors):\n",
    "        return None\n",
    "\n",
    "    return graph_colors\n"
   ]
  },
  {
   "cell_type": "code",
   "execution_count": 128,
   "metadata": {},
   "outputs": [
    {
     "name": "stdout",
     "output_type": "stream",
     "text": [
      "Szinek:  [0, 1, 2, 0, 3, 0]\n"
     ]
    }
   ],
   "source": [
    "\n",
    "colors = 4\n",
    "\n",
    "grap_colors = graph_coloring(graph, colors)\n",
    "print(\"Szinek: \", grap_colors)\n"
   ]
  },
  {
   "cell_type": "code",
   "execution_count": 129,
   "metadata": {},
   "outputs": [],
   "source": [
    "def is_sage_csp(graph, colors):\n",
    "\n",
    "    for i in range(len(graph)):\n",
    "        for j in range(i+1, len(graph)):\n",
    "            if graph[i][j] and colors[i] == colors[j]:\n",
    "                return False\n",
    "    return True"
   ]
  },
  {
   "cell_type": "code",
   "execution_count": 130,
   "metadata": {},
   "outputs": [],
   "source": [
    "def graph_coloring_csp(graph, colors, v, graph_colors):\n",
    "    if v == len(graph):\n",
    "\n",
    "        if is_sage_csp(graph, grap_colors):\n",
    "            print(graph_colors)\n",
    "            return True\n",
    "        \n",
    "        else:\n",
    "            return False\n",
    "    for i in range(colors):\n",
    "        grap_colors[v] = i\n",
    "        if graph_coloring_csp(graph, colors, v+1, graph_colors):\n",
    "            return True\n",
    "        graph_colors[v] = -1\n",
    "        \n"
   ]
  },
  {
   "cell_type": "code",
   "execution_count": 131,
   "metadata": {},
   "outputs": [
    {
     "name": "stdout",
     "output_type": "stream",
     "text": [
      "[0, 1, 2, 0, 3, 0]\n"
     ]
    },
    {
     "data": {
      "text/plain": [
       "True"
      ]
     },
     "execution_count": 131,
     "metadata": {},
     "output_type": "execute_result"
    }
   ],
   "source": [
    "colors = 4\n",
    "grap_colors = [-1]*len(graph)\n",
    "graph_coloring_csp(graph,colors, 0,grap_colors)"
   ]
  },
  {
   "attachments": {},
   "cell_type": "markdown",
   "metadata": {},
   "source": [
    "## Vége\n",
    "----"
   ]
  }
 ],
 "metadata": {
  "kernelspec": {
   "display_name": "Python 3",
   "language": "python",
   "name": "python3"
  },
  "language_info": {
   "name": "python",
   "version": "3.10.6"
  },
  "orig_nbformat": 4
 },
 "nbformat": 4,
 "nbformat_minor": 2
}
