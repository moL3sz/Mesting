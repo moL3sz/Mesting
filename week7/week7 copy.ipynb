{
 "cells": [
  {
   "attachments": {},
   "cell_type": "markdown",
   "metadata": {},
   "source": [
    "# Kényszerkielégítés\n",
    "\n",
    "---\n",
    "\n",
    "\n",
    "**Általános keresési probláma**\n",
    "* Az állapot egy fekete doboz\n",
    "* Az állaptot bármilyen adatstruktúra ábrázolja\n",
    "* Csak az állapotátmenete, heurisztika és célállapot legyen implementálva\n",
    "\n",
    "**Kényszerkielégítés probláma**\n",
    "* Az állapott D<sub>i</sub> tartományból származó X<sub>i</sub> változókkl definiáljuk\n",
    "* A célteszt kényszer halmza, mely mindegyike a változó egy részhalmazát és megfelelő értékeket tartalmaz\n",
    "  \n",
    "\n"
   ]
  },
  {
   "attachments": {},
   "cell_type": "markdown",
   "metadata": {},
   "source": []
  },
  {
   "cell_type": "code",
   "execution_count": null,
   "metadata": {},
   "outputs": [],
   "source": []
  }
 ],
 "metadata": {
  "language_info": {
   "name": "python"
  },
  "orig_nbformat": 4
 },
 "nbformat": 4,
 "nbformat_minor": 2
}
