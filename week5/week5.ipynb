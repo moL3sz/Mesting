{
 "cells": [
  {
   "attachments": {},
   "cell_type": "markdown",
   "metadata": {},
   "source": [
    "# Mestint 5. hét\n",
    "\n",
    "---\n",
    "\n"
   ]
  },
  {
   "attachments": {},
   "cell_type": "markdown",
   "metadata": {},
   "source": [
    "## Informált keresési algoriutmusok\n",
    "\n",
    "**N királnyő**"
   ]
  },
  {
   "cell_type": "code",
   "execution_count": 14,
   "metadata": {},
   "outputs": [
    {
     "name": "stdout",
     "output_type": "stream",
     "text": [
      "(-1, -1, -1, -1) None\n",
      "<Node (0, -1, -1, -1)>\n",
      "<Node (0, 3, -1, -1)>\n",
      "<Node (0, 3, 1, -1)>\n",
      "\n",
      "[+] Got it!\n",
      "<Node (0, 4, 7, 5, 2, 6, 1, 3)>\n",
      "[+] Got it!\n",
      "<Node (7, 3, 0, 2, 5, 1, 6, 4)>\n"
     ]
    }
   ],
   "source": [
    "from NQueens import NQueens\n",
    "from search import trial_error,depth_first_search,breath_first_search\n",
    "\n",
    "nq4 = NQueens(4)\n",
    "\n",
    "print(nq4.initial, nq4.goal)\n",
    "\n",
    "trial_error(nq4)\n",
    "\n",
    "nq8 = NQueens(8)\n",
    "\n",
    "#print(nq32.initial, nq32.goal)\n",
    "\n",
    "#trial_error(nq32)\n",
    "print()\n",
    "print(breath_first_search(nq8))\n",
    "\n",
    "print(depth_first_search(nq8))\n"
   ]
  },
  {
   "attachments": {},
   "cell_type": "markdown",
   "metadata": {},
   "source": [
    "### A* algoritmus"
   ]
  },
  {
   "cell_type": "code",
   "execution_count": 15,
   "metadata": {},
   "outputs": [
    {
     "data": {
      "text/plain": [
       "[<Node (3, 2, -1, -1)>, <Node (3, -1, -1, -1)>, <Node (1, 2, -1, 0)>]"
      ]
     },
     "execution_count": 15,
     "metadata": {},
     "output_type": "execute_result"
    }
   ],
   "source": [
    "from node import Node\n",
    "\n",
    "tmp = [Node((3, 2, -1, -1)), Node((3, -1, -1, -1)), Node((1, 2, -1, 0))]\n",
    "\n",
    "tmp\n"
   ]
  },
  {
   "cell_type": "code",
   "execution_count": 16,
   "metadata": {},
   "outputs": [
    {
     "data": {
      "text/plain": [
       "[<Node (3, -1, -1, -1)>, <Node (1, 2, -1, 0)>, <Node (3, 2, -1, -1)>]"
      ]
     },
     "execution_count": 16,
     "metadata": {},
     "output_type": "execute_result"
    }
   ],
   "source": [
    "def sort_by_heur(items):\n",
    "    return sorted(items, key=lambda x: sum(x.state))\n",
    "\n",
    "sort_by_heur(tmp)"
   ]
  },
  {
   "cell_type": "code",
   "execution_count": 18,
   "metadata": {},
   "outputs": [
    {
     "name": "stdout",
     "output_type": "stream",
     "text": [
      "(-1, -1, -1, -1, -1, -1, -1, -1)\n",
      "(7, -1, -1, -1, -1, -1, -1, -1)\n",
      "(7, 5, -1, -1, -1, -1, -1, -1)\n",
      "(7, 5, 3, -1, -1, -1, -1, -1)\n",
      "(7, 5, 3, 6, -1, -1, -1, -1)\n",
      "(7, 5, 3, 6, 4, -1, -1, -1)\n",
      "(7, 5, 3, 6, 0, -1, -1, -1)\n",
      "(7, 5, 3, 1, -1, -1, -1, -1)\n",
      "(7, 5, 3, 1, 6, -1, -1, -1)\n",
      "(7, 5, 3, 1, 6, 4, -1, -1)\n",
      "(7, 5, 3, 1, 6, 4, 2, -1)\n",
      "(7, 5, 3, 1, 4, -1, -1, -1)\n",
      "(7, 5, 3, 0, -1, -1, -1, -1)\n",
      "(7, 5, 3, 0, 6, -1, -1, -1)\n",
      "(7, 5, 3, 0, 6, 4, -1, -1)\n",
      "(7, 5, 3, 0, 6, 4, 2, -1)\n",
      "(7, 5, 3, 0, 4, -1, -1, -1)\n",
      "(7, 5, 2, -1, -1, -1, -1, -1)\n",
      "(7, 5, 2, 6, -1, -1, -1, -1)\n",
      "(7, 5, 2, 6, 1, -1, -1, -1)\n",
      "(7, 5, 2, 6, 1, 3, -1, -1)\n",
      "(7, 5, 2, 0, -1, -1, -1, -1)\n",
      "(7, 5, 2, 0, 6, -1, -1, -1)\n",
      "(7, 5, 2, 0, 6, 4, -1, -1)\n",
      "(7, 5, 2, 0, 6, 3, -1, -1)\n",
      "(7, 5, 1, -1, -1, -1, -1, -1)\n",
      "(7, 5, 1, 6, -1, -1, -1, -1)\n",
      "(7, 5, 1, 6, 4, -1, -1, -1)\n",
      "(7, 5, 1, 6, 4, 0, -1, -1)\n",
      "(7, 5, 1, 6, 0, -1, -1, -1)\n",
      "(7, 5, 1, 6, 0, 3, -1, -1)\n",
      "(7, 5, 0, -1, -1, -1, -1, -1)\n",
      "(7, 5, 0, 6, -1, -1, -1, -1)\n",
      "(7, 5, 0, 6, 4, -1, -1, -1)\n",
      "(7, 5, 0, 6, 1, -1, -1, -1)\n",
      "(7, 5, 0, 2, -1, -1, -1, -1)\n",
      "(7, 5, 0, 2, 6, -1, -1, -1)\n",
      "(7, 5, 0, 2, 4, -1, -1, -1)\n",
      "(7, 5, 0, 2, 4, 6, -1, -1)\n",
      "(7, 5, 0, 2, 4, 6, 3, -1)\n",
      "(7, 4, -1, -1, -1, -1, -1, -1)\n",
      "(7, 4, 6, -1, -1, -1, -1, -1)\n",
      "(7, 4, 6, 3, -1, -1, -1, -1)\n",
      "(7, 4, 6, 3, 5, -1, -1, -1)\n",
      "(7, 4, 6, 3, 0, -1, -1, -1)\n",
      "(7, 4, 6, 1, -1, -1, -1, -1)\n",
      "(7, 4, 6, 1, 5, -1, -1, -1)\n",
      "(7, 4, 6, 0, -1, -1, -1, -1)\n",
      "(7, 4, 6, 0, 5, -1, -1, -1)\n",
      "(7, 4, 6, 0, 5, 1, -1, -1)\n",
      "(7, 4, 6, 0, 2, -1, -1, -1)\n",
      "(7, 4, 6, 0, 2, 5, -1, -1)\n",
      "(7, 4, 2, -1, -1, -1, -1, -1)\n",
      "(7, 4, 2, 5, -1, -1, -1, -1)\n",
      "(7, 4, 2, 0, -1, -1, -1, -1)\n",
      "(7, 4, 2, 0, 6, -1, -1, -1)\n",
      "(7, 4, 2, 0, 6, 3, -1, -1)\n",
      "(7, 4, 2, 0, 6, 3, 5, -1)\n",
      "(7, 4, 2, 0, 6, 1, -1, -1)\n",
      "(7, 4, 2, 0, 6, 1, 5, -1)\n",
      "(7, 4, 2, 0, 5, -1, -1, -1)\n",
      "(7, 4, 2, 0, 5, 3, -1, -1)\n",
      "(7, 4, 2, 0, 5, 1, -1, -1)\n",
      "(7, 4, 1, -1, -1, -1, -1, -1)\n",
      "(7, 4, 1, 5, -1, -1, -1, -1)\n",
      "(7, 4, 1, 5, 2, -1, -1, -1)\n",
      "(7, 4, 1, 5, 2, 6, -1, -1)\n",
      "(7, 4, 1, 5, 2, 6, 3, -1)\n",
      "(7, 4, 1, 5, 0, -1, -1, -1)\n",
      "(7, 4, 1, 5, 0, 6, -1, -1)\n",
      "(7, 4, 1, 5, 0, 6, 3, -1)\n",
      "(7, 4, 1, 3, -1, -1, -1, -1)\n",
      "(7, 4, 1, 3, 6, -1, -1, -1)\n",
      "(7, 4, 1, 3, 5, -1, -1, -1)\n",
      "(7, 4, 1, 3, 0, -1, -1, -1)\n",
      "(7, 4, 1, 3, 0, 6, -1, -1)\n",
      "(7, 4, 0, -1, -1, -1, -1, -1)\n",
      "(7, 4, 0, 5, -1, -1, -1, -1)\n",
      "(7, 4, 0, 3, -1, -1, -1, -1)\n",
      "(7, 4, 0, 3, 6, -1, -1, -1)\n",
      "(7, 4, 0, 3, 5, -1, -1, -1)\n",
      "(7, 3, -1, -1, -1, -1, -1, -1)\n",
      "(7, 3, 6, -1, -1, -1, -1, -1)\n",
      "(7, 3, 6, 2, -1, -1, -1, -1)\n",
      "(7, 3, 6, 2, 5, -1, -1, -1)\n",
      "(7, 3, 6, 2, 5, 1, -1, -1)\n",
      "(7, 3, 6, 2, 5, 1, 4, -1)\n",
      "(7, 3, 6, 0, -1, -1, -1, -1)\n",
      "(7, 3, 6, 0, 5, -1, -1, -1)\n",
      "(7, 3, 6, 0, 5, 1, -1, -1)\n",
      "(7, 3, 6, 0, 5, 1, 4, -1)\n",
      "(7, 3, 6, 0, 2, -1, -1, -1)\n",
      "(7, 3, 6, 0, 2, 5, -1, -1)\n",
      "(7, 3, 6, 0, 2, 4, -1, -1)\n",
      "(7, 3, 1, -1, -1, -1, -1, -1)\n",
      "(7, 3, 1, 6, -1, -1, -1, -1)\n",
      "(7, 3, 1, 6, 4, -1, -1, -1)\n",
      "(7, 3, 1, 6, 4, 0, -1, -1)\n",
      "(7, 3, 1, 6, 2, -1, -1, -1)\n",
      "(7, 3, 1, 6, 2, 5, -1, -1)\n",
      "(7, 3, 1, 6, 2, 0, -1, -1)\n",
      "(7, 3, 0, -1, -1, -1, -1, -1)\n",
      "(7, 3, 0, 6, -1, -1, -1, -1)\n",
      "(7, 3, 0, 6, 4, -1, -1, -1)\n",
      "(7, 3, 0, 6, 4, 1, -1, -1)\n",
      "(7, 3, 0, 6, 4, 1, 5, -1)\n",
      "(7, 3, 0, 6, 1, -1, -1, -1)\n",
      "(7, 3, 0, 6, 1, 5, -1, -1)\n",
      "(7, 3, 0, 6, 1, 5, 2, -1)\n",
      "(7, 3, 0, 2, -1, -1, -1, -1)\n",
      "(7, 3, 0, 2, 5, -1, -1, -1)\n",
      "(7, 3, 0, 2, 5, 1, -1, -1)\n",
      "(7, 3, 0, 2, 5, 1, 6, -1)\n",
      "[+] Got it!\n"
     ]
    },
    {
     "data": {
      "text/plain": [
       "<Node (7, 3, 0, 2, 5, 1, 6, 4)>"
      ]
     },
     "execution_count": 18,
     "metadata": {},
     "output_type": "execute_result"
    }
   ],
   "source": [
    "from search import astar_search\n",
    "\n",
    "\n",
    "\n",
    "astar_search(nq8, sort_by_heur)"
   ]
  },
  {
   "attachments": {},
   "cell_type": "markdown",
   "metadata": {},
   "source": [
    "# 1. ZH\n",
    "\n",
    "---\n",
    "\n",
    "1. feladat (2p): jellemzők + kezdő állapot + cél állapot megadása\n",
    "2. feladat (3p): Kapunk egy Problem, Node osztályt --> állapot tér repr kapunk, ezt kell lekódolni ügyesen (actions, result lekódolni)\n",
    "3. feladat (1p): Ha az előző feladat fasza, akkor a konstruktrból az inital, gol  valtozot ki kell printelni\n",
    "4. feladat (1p): Valamely keresési algoritmust kell csinálni\n",
    "5. feladat (1p): Meghívni és megnézni hogy megy-e\n",
    "6. feladat (1p): MÉég egy keresési algot\n",
    "7. feladat (1p): Ezt is lefuttatni"
   ]
  }
 ],
 "metadata": {
  "kernelspec": {
   "display_name": "Python 3",
   "language": "python",
   "name": "python3"
  },
  "language_info": {
   "codemirror_mode": {
    "name": "ipython",
    "version": 3
   },
   "file_extension": ".py",
   "mimetype": "text/x-python",
   "name": "python",
   "nbconvert_exporter": "python",
   "pygments_lexer": "ipython3",
   "version": "3.10.6"
  },
  "orig_nbformat": 4
 },
 "nbformat": 4,
 "nbformat_minor": 2
}
