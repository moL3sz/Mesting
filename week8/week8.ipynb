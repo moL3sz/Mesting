{
 "cells": [
  {
   "attachments": {},
   "cell_type": "markdown",
   "metadata": {},
   "source": [
    "# Tic Tac Toe\n",
    "\n",
    "---\n",
    "\n",
    "**Jellemzők**\n",
    "* H = {0,1,2}, 0 üres, 1: X, 2:O\n",
    "\n",
    "**Állások halmaza**\n",
    "* A e H<sup>3*3</sup>\n",
    "* fv = {0,1,2} --> {0,1} ahol v e {1,2} és fv(x) = 1, ha x = v,  egyébként\n",
    "\n",
    "**Lépések**\n",
    "* L = {l<sub>i,j,k</sub> i e {1,2,3} & j e {1,2,3} & k e {1,2}}\n",
    "\n"
   ]
  },
  {
   "cell_type": "code",
   "execution_count": 6,
   "metadata": {},
   "outputs": [
    {
     "name": "stdout",
     "output_type": "stream",
     "text": [
      ". . . \n",
      ". . . \n",
      ". . . \n"
     ]
    }
   ],
   "source": [
    "from tictactoe import TicTacToe\n",
    "\n",
    "\n",
    "ttt = TicTacToe()\n",
    "\n",
    "ttt.display(ttt.initial)"
   ]
  },
  {
   "cell_type": "code",
   "execution_count": 7,
   "metadata": {},
   "outputs": [
    {
     "name": "stdout",
     "output_type": "stream",
     "text": [
      "X O X \n",
      "O . O \n",
      "X . . \n"
     ]
    }
   ],
   "source": [
    "from tictactoe import GameState\n",
    "\n",
    "\n",
    "\n",
    "my_state = GameState(to_move=\"X\",utility=0, board={(1,1): \"X\", (1,2): \"O\", (1,3):'X', (2,1): \"O\", (2,3):\"O\", (3,1): \"X\"},\n",
    "                     moves=[(2,2), (3,2), (3,3)]\n",
    "                     )\n",
    "ttt.display(my_state)"
   ]
  },
  {
   "cell_type": "code",
   "execution_count": 8,
   "metadata": {},
   "outputs": [
    {
     "data": {
      "text/plain": [
       "(3, 2)"
      ]
     },
     "execution_count": 8,
     "metadata": {},
     "output_type": "execute_result"
    }
   ],
   "source": [
    "import random\n",
    "\n",
    "def random_player(game,state):\n",
    "    return random.choice(game.actions(state))  if game.actions(state) else None\n",
    "\n",
    "\n",
    "random_player(ttt,my_state)"
   ]
  },
  {
   "cell_type": "code",
   "execution_count": 9,
   "metadata": {},
   "outputs": [
    {
     "name": "stdout",
     "output_type": "stream",
     "text": [
      "O . O \n",
      ". X O \n",
      "X X X \n"
     ]
    },
    {
     "data": {
      "text/plain": [
       "1"
      ]
     },
     "execution_count": 9,
     "metadata": {},
     "output_type": "execute_result"
    }
   ],
   "source": [
    "ttt.play_game(random_player,random_player)"
   ]
  },
  {
   "cell_type": "code",
   "execution_count": 16,
   "metadata": {},
   "outputs": [
    {
     "data": {
      "text/plain": [
       "GameState(to_move='X', utility=0, board={(1, 1): 'X', (1, 2): 'O', (1, 3): 'X', (2, 1): 'O', (2, 3): 'O', (3, 1): 'X'}, moves=[(2, 2), (3, 2), (3, 3)])"
      ]
     },
     "execution_count": 16,
     "metadata": {},
     "output_type": "execute_result"
    }
   ],
   "source": [
    "from decision import alfa_beta_search\n",
    "\n",
    "\n",
    "def alfa_beta_player(game,state):\n",
    "    return alfa_beta_search(game,state)\n",
    "\n",
    "#ttt.play_game(alfa_beta_player, random_player)\n",
    "\n",
    "my_state\n",
    "#alfa_beta_player(ttt,my_state)"
   ]
  }
 ],
 "metadata": {
  "kernelspec": {
   "display_name": "Python 3",
   "language": "python",
   "name": "python3"
  },
  "language_info": {
   "codemirror_mode": {
    "name": "ipython",
    "version": 3
   },
   "file_extension": ".py",
   "mimetype": "text/x-python",
   "name": "python",
   "nbconvert_exporter": "python",
   "pygments_lexer": "ipython3",
   "version": "3.10.6"
  },
  "orig_nbformat": 4,
  "vscode": {
   "interpreter": {
    "hash": "916dbcbb3f70747c44a77c7bcd40155683ae19c65e1c03b4aa3499c5328201f1"
   }
  }
 },
 "nbformat": 4,
 "nbformat_minor": 2
}
