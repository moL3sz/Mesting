{
 "cells": [
  {
   "attachments": {},
   "cell_type": "markdown",
   "metadata": {},
   "source": [
    "# Tic Tac Toe\n",
    "\n",
    "---\n",
    "\n",
    "**Jellemzők**\n",
    "* H = {0,1,2}, 0 üres, 1: X, 2:O\n",
    "\n",
    "**Állások halmaza**\n",
    "* A e H<sup>3*3</sup>\n",
    "* fv = {0,1,2} --> {0,1} ahol v e {1,2} és fv(x) = 1, ha x = v,  egyébként\n",
    "\n",
    "**Lépések**\n",
    "* L = {l<sub>i,j,k</sub> i e {1,2,3} & j e {1,2,3} & k e {1,2}}\n",
    "\n"
   ]
  },
  {
   "cell_type": "code",
   "execution_count": 2,
   "metadata": {},
   "outputs": [
    {
     "name": "stdout",
     "output_type": "stream",
     "text": [
      ". . . \n",
      ". . . \n",
      ". . . \n"
     ]
    }
   ],
   "source": [
    "from tictactoe import TicTacToe\n",
    "\n",
    "\n",
    "ttt = TicTacToe()\n",
    "\n",
    "ttt.display(ttt.initial)"
   ]
  },
  {
   "cell_type": "code",
   "execution_count": 3,
   "metadata": {},
   "outputs": [
    {
     "name": "stdout",
     "output_type": "stream",
     "text": [
      "X O X \n",
      "O . O \n",
      "X . . \n"
     ]
    }
   ],
   "source": [
    "from tictactoe import GameState\n",
    "\n",
    "\n",
    "\n",
    "my_state = GameState(to_move=\"X\",utility=0, board={(1,1): \"X\", (1,2): \"O\", (1,3):'X', (2,1): \"O\", (2,3):\"O\", (3,1): \"X\"},\n",
    "                     moves=[(2,2), (3,2), (3,3)]\n",
    "                     )\n",
    "ttt.display(my_state)"
   ]
  },
  {
   "cell_type": "code",
   "execution_count": 4,
   "metadata": {},
   "outputs": [
    {
     "data": {
      "text/plain": [
       "(2, 2)"
      ]
     },
     "execution_count": 4,
     "metadata": {},
     "output_type": "execute_result"
    }
   ],
   "source": [
    "import random\n",
    "\n",
    "def random_player(game,state):\n",
    "    return random.choice(game.actions(state))  if game.actions(state) else None\n",
    "\n",
    "\n",
    "random_player(ttt,my_state)"
   ]
  },
  {
   "cell_type": "code",
   "execution_count": 5,
   "metadata": {},
   "outputs": [
    {
     "name": "stdout",
     "output_type": "stream",
     "text": [
      "X . O \n",
      "X . O \n",
      ". X O \n"
     ]
    },
    {
     "data": {
      "text/plain": [
       "-1"
      ]
     },
     "execution_count": 5,
     "metadata": {},
     "output_type": "execute_result"
    }
   ],
   "source": [
    "ttt.play_game(random_player,random_player)"
   ]
  },
  {
   "cell_type": "code",
   "execution_count": 6,
   "metadata": {},
   "outputs": [
    {
     "name": "stdout",
     "output_type": "stream",
     "text": [
      "X\n"
     ]
    },
    {
     "ename": "TypeError",
     "evalue": "'str' object is not callable",
     "output_type": "error",
     "traceback": [
      "\u001b[0;31m---------------------------------------------------------------------------\u001b[0m",
      "\u001b[0;31mTypeError\u001b[0m                                 Traceback (most recent call last)",
      "\u001b[1;32m/home/molesz/Desktop/Egyetem/Mestint/week8/week8.ipynb Cell 6\u001b[0m in \u001b[0;36m<cell line: 10>\u001b[0;34m()\u001b[0m\n\u001b[1;32m      <a href='vscode-notebook-cell:/home/molesz/Desktop/Egyetem/Mestint/week8/week8.ipynb#W5sZmlsZQ%3D%3D?line=4'>5</a>\u001b[0m     \u001b[39mreturn\u001b[39;00m alfa_beta_search(game,state)\n\u001b[1;32m      <a href='vscode-notebook-cell:/home/molesz/Desktop/Egyetem/Mestint/week8/week8.ipynb#W5sZmlsZQ%3D%3D?line=6'>7</a>\u001b[0m \u001b[39m#ttt.play_game(alfa_beta_player, random_player)\u001b[39;00m\n\u001b[0;32m---> <a href='vscode-notebook-cell:/home/molesz/Desktop/Egyetem/Mestint/week8/week8.ipynb#W5sZmlsZQ%3D%3D?line=9'>10</a>\u001b[0m alfa_beta_player(ttt,my_state)\n",
      "\u001b[1;32m/home/molesz/Desktop/Egyetem/Mestint/week8/week8.ipynb Cell 6\u001b[0m in \u001b[0;36malfa_beta_player\u001b[0;34m(game, state)\u001b[0m\n\u001b[1;32m      <a href='vscode-notebook-cell:/home/molesz/Desktop/Egyetem/Mestint/week8/week8.ipynb#W5sZmlsZQ%3D%3D?line=3'>4</a>\u001b[0m \u001b[39mdef\u001b[39;00m \u001b[39malfa_beta_player\u001b[39m(game,state):\n\u001b[0;32m----> <a href='vscode-notebook-cell:/home/molesz/Desktop/Egyetem/Mestint/week8/week8.ipynb#W5sZmlsZQ%3D%3D?line=4'>5</a>\u001b[0m     \u001b[39mreturn\u001b[39;00m alfa_beta_search(game,state)\n",
      "File \u001b[0;32m~/Desktop/Egyetem/Mestint/week8/decision.py:32\u001b[0m, in \u001b[0;36malfa_beta_search\u001b[0;34m(state, game)\u001b[0m\n\u001b[1;32m     28\u001b[0m \u001b[39mdef\u001b[39;00m \u001b[39malfa_beta_search\u001b[39m(state, game:Game):\n\u001b[1;32m     31\u001b[0m     \u001b[39mprint\u001b[39m(game\u001b[39m.\u001b[39mto_move)\n\u001b[0;32m---> 32\u001b[0m     player \u001b[39m=\u001b[39m game\u001b[39m.\u001b[39;49mto_move(state)\n\u001b[1;32m     33\u001b[0m     \u001b[39mprint\u001b[39m(player)\n\u001b[1;32m     35\u001b[0m     \u001b[39mdef\u001b[39;00m \u001b[39mmax_value\u001b[39m(state, alfa, beta):\n",
      "\u001b[0;31mTypeError\u001b[0m: 'str' object is not callable"
     ]
    }
   ],
   "source": [
    "from decision import alfa_beta_search\n",
    "\n",
    "\n",
    "def alfa_beta_player(game,state):\n",
    "    return alfa_beta_search(game,state)\n",
    "\n",
    "#ttt.play_game(alfa_beta_player, random_player)\n",
    "\n",
    "\n",
    "alfa_beta_player(ttt,my_state)"
   ]
  }
 ],
 "metadata": {
  "kernelspec": {
   "display_name": "Python 3",
   "language": "python",
   "name": "python3"
  },
  "language_info": {
   "codemirror_mode": {
    "name": "ipython",
    "version": 3
   },
   "file_extension": ".py",
   "mimetype": "text/x-python",
   "name": "python",
   "nbconvert_exporter": "python",
   "pygments_lexer": "ipython3",
   "version": "3.10.6"
  },
  "orig_nbformat": 4,
  "vscode": {
   "interpreter": {
    "hash": "916dbcbb3f70747c44a77c7bcd40155683ae19c65e1c03b4aa3499c5328201f1"
   }
  }
 },
 "nbformat": 4,
 "nbformat_minor": 2
}
