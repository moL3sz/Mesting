{
 "cells": [
  {
   "attachments": {},
   "cell_type": "markdown",
   "metadata": {},
   "source": [
    "# Nem informált algoritmusok\n",
    "\n",
    "Tulajdonságok, hogy csak a probláma definiaálásakor megadoot infomációkat használjuk fel\n",
    "\n",
    "Példák a nem informált keresési stratégiákhoz:\n",
    "\n",
    "---\n",
    "\n",
    "1. Szélességi keresés (Breath First Search BFS)\n",
    "2. Mélységi keresés (Depth First Search DFS)\n",
    "3. Egyenletes költségű keresés (Unfiform cost)\n",
    "4. Mélységikorlátozott keresés (Depth limited)\n",
    "5. Iteratívan mélyüűlő mélységi keresés (Iterativ Depth First search)\n",
    "\n"
   ]
  },
  {
   "cell_type": "code",
   "execution_count": 1,
   "metadata": {},
   "outputs": [
    {
     "name": "stdout",
     "output_type": "stream",
     "text": [
      "2\n"
     ]
    }
   ],
   "source": [
    "from collections import deque\n",
    "\n",
    "queue = deque([1,2,3,4])\n",
    "\n",
    "for i in range(2):\n",
    "    queue.popleft()\n",
    "print(len(queue))\n"
   ]
  },
  {
   "attachments": {},
   "cell_type": "markdown",
   "metadata": {},
   "source": [
    "## Szélességi keresés"
   ]
  },
  {
   "cell_type": "code",
   "execution_count": 2,
   "metadata": {},
   "outputs": [
    {
     "name": "stdout",
     "output_type": "stream",
     "text": [
      "Cup3 solution: \n",
      "['5-->3', '3-->2', '2-->5']\n",
      "\n",
      "Hanoi solution: \n",
      "[State(disk=0, char='3'), State(disk=1, char='2'), State(disk=0, char='2'), State(disk=2, char='3'), State(disk=0, char='1'), State(disk=1, char='3'), State(disk=0, char='3')]\n"
     ]
    }
   ],
   "source": [
    "from hanoi import Hanoi\n",
    "from cup3 import Cup3\n",
    "from search import breath_first_search\n",
    "\n",
    "c = Cup3([5,0,0], [(4,1,0), (4,0,1)])\n",
    "h = Hanoi(3)\n",
    "\n",
    "print(\"Cup3 solution: \")\n",
    "print(breath_first_search(c).solution())\n",
    "\n",
    "print(\"\\nHanoi solution: \")\n",
    "print(breath_first_search(h).solution())\n"
   ]
  },
  {
   "attachments": {},
   "cell_type": "markdown",
   "metadata": {},
   "source": [
    "## Mélységi keresés"
   ]
  },
  {
   "cell_type": "code",
   "execution_count": 6,
   "metadata": {},
   "outputs": [
    {
     "name": "stdout",
     "output_type": "stream",
     "text": [
      "Cup3 solution:\n",
      "['5-->2', '2-->3', '5-->2', '2-->3', '3-->5']\n",
      "\n",
      "Hanoi solution: \n",
      "[State(disk=0, char='3'), State(disk=1, char='2'), State(disk=0, char='2'), State(disk=2, char='3'), State(disk=0, char='3'), State(disk=1, char='1'), State(disk=0, char='2'), State(disk=1, char='3'), State(disk=0, char='3')]\n"
     ]
    }
   ],
   "source": [
    "from hanoi import Hanoi\n",
    "from cup3 import Cup3\n",
    "from search import depth_first_search\n",
    "\n",
    "c = Cup3((5,0,0), [(4,1,0), (4,0,1)])\n",
    "h = Hanoi(3)\n",
    "\n",
    "print(\"Cup3 solution:\")\n",
    "print(depth_first_search(c).solution())\n",
    "\n",
    "\n",
    "print(\"\\nHanoi solution: \")\n",
    "print(depth_first_search(h).solution())"
   ]
  },
  {
   "attachments": {},
   "cell_type": "markdown",
   "metadata": {},
   "source": [
    "## Egyeneletes költségű keresés"
   ]
  }
 ],
 "metadata": {
  "kernelspec": {
   "display_name": "Python 3",
   "language": "python",
   "name": "python3"
  },
  "language_info": {
   "codemirror_mode": {
    "name": "ipython",
    "version": 3
   },
   "file_extension": ".py",
   "mimetype": "text/x-python",
   "name": "python",
   "nbconvert_exporter": "python",
   "pygments_lexer": "ipython3",
   "version": "3.10.6"
  },
  "orig_nbformat": 4
 },
 "nbformat": 4,
 "nbformat_minor": 2
}
