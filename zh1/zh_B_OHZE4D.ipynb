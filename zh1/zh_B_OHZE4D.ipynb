{
 "cells": [
  {
   "attachments": {},
   "cell_type": "markdown",
   "metadata": {},
   "source": [
    "# 1. ZH B csoport - Összesen 10 pont - 90 perc áll rendelkezésre a megoldáshoz"
   ]
  },
  {
   "attachments": {},
   "cell_type": "markdown",
   "metadata": {},
   "source": [
    "## Azonosító adatok"
   ]
  },
  {
   "attachments": {},
   "cell_type": "markdown",
   "metadata": {},
   "source": [
    "- NÉV: Molnár Kristof Ferenc\n",
    "- NEPTUN KÓD: OHZE4D"
   ]
  },
  {
   "attachments": {},
   "cell_type": "markdown",
   "metadata": {},
   "source": [
    "## Feladatok"
   ]
  },
  {
   "attachments": {},
   "cell_type": "markdown",
   "metadata": {},
   "source": [
    "1. (2 pont) Adja meg az alábbi probléma jellemzőit, illetve cél és kezdő állapotát:\n",
    "- Egy vödörben 12 liter vodkát kell elosztani egyenlő részre két orosz paraszt Igor és Sasha között.\n",
    "- Az elosztás után maradjon a vödörben még 4 liter pálinka.\n",
    "- Két 7 literes plackjuk van."
   ]
  },
  {
   "cell_type": "code",
   "execution_count": 1,
   "metadata": {},
   "outputs": [
    {
     "data": {
      "text/plain": [
       "'\\nJellemzők: a Palackok + vödör, jelen esetben egy 12l, 7l, 7l\\n* H1 = {1,2,.....,12} \\n* H2 = {1,2,3,4,5,6,7}\\n* H3 = {1,2,3,4,5,6,7}\\n\\nKezdő állapot: \\na0 = <12,0,0>\\n\\nCél állapot:\\nc = <4,4,4>\\n\\n\\n'"
      ]
     },
     "execution_count": 1,
     "metadata": {},
     "output_type": "execute_result"
    }
   ],
   "source": [
    "# Válasz helye. Válaszát szabályos python commentek között adja meg.\n",
    "\"\"\"\n",
    "Jellemzők: a Palackok + vödör, jelen esetben egy 12l, 7l, 7l\n",
    "* H1 = {1,2,.....,12} \n",
    "* H2 = {1,2,3,4,5,6,7}\n",
    "* H3 = {1,2,3,4,5,6,7}\n",
    "\n",
    "Kezdő állapot: \n",
    "a0 = <12,0,0>\n",
    "\n",
    "Cél állapot:\n",
    "c = <4,4,4>\n",
    "\n",
    "\n",
    "\"\"\""
   ]
  },
  {
   "attachments": {},
   "cell_type": "markdown",
   "metadata": {},
   "source": [
    "### Futassa le az alábbi segéd osztályokat"
   ]
  },
  {
   "cell_type": "code",
   "execution_count": 2,
   "metadata": {},
   "outputs": [],
   "source": [
    "class Problem:\n",
    "    def __init__(self, initial, goal=None):\n",
    "        self.initial = initial\n",
    "        self.goal = goal\n",
    "\n",
    "    def actions(self, state):\n",
    "        raise NotImplementedError\n",
    "\n",
    "    def result(self, state, action):\n",
    "        raise NotImplementedError\n",
    "\n",
    "    def goal_test(self, state):\n",
    "        if isinstance(self.goal, list):\n",
    "            for s in self.goal:\n",
    "                if s==state:\n",
    "                    return True\n",
    "\n",
    "            return False\n",
    "        else:\n",
    "            return state == self.goal\n",
    "        \n",
    "    def path_cost(self, c, state1, action, state2):\n",
    "        return c + 1"
   ]
  },
  {
   "cell_type": "code",
   "execution_count": 3,
   "metadata": {},
   "outputs": [],
   "source": [
    "class Node:\n",
    "    def __init__(self, state, parent=None, action=None, path_cost=0):\n",
    "        self.state = state\n",
    "        self.parent = parent\n",
    "        self.action = action\n",
    "        self.path_cost = path_cost\n",
    "        self.depth = 0\n",
    "        if parent:\n",
    "            self.depth = parent.depth + 1\n",
    "\n",
    "    def child_node(self, problem, action):\n",
    "        next_state = problem.result(self.state, action)\n",
    "        next_node = Node(state = next_state, \n",
    "                         parent = self, \n",
    "                         action = action, \n",
    "                         path_cost = problem.path_cost(self.path_cost, self.state, action, next_state))\n",
    "        return next_node\n",
    "\n",
    "    def expand(self, problem):\n",
    "        return [self.child_node(problem, action) for action in problem.actions(self.state)]\n",
    "\n",
    "    def solution(self):\n",
    "        return [node.action for node in self.path()[1:]]\n",
    "\n",
    "    def path(self):\n",
    "        node, path_back = self, []\n",
    "        while node:\n",
    "            path_back.append(node)\n",
    "            node = node.parent\n",
    "        return list(reversed(path_back))"
   ]
  },
  {
   "attachments": {},
   "cell_type": "markdown",
   "metadata": {},
   "source": [
    "### Adott a következő állapottér reprezentáció\n",
    "\n",
    "#### A farmer, a kecske, a farkas és a káposzta\n",
    "- Egy gazda át akar kelni egy folyón, és magával akar vinni egy farkast, egy kecskét és egy káposztát.\n",
    "- Van egy csónak, amelybe csak ketten férnek el, ő maga plusz vagy a farkas, a kecske vagy a káposzta. \n",
    "- Ha a farkas és a kecske egyedül vannak egy parton, a farkas megeszi a kecskét. \n",
    "- Ha a kecske és a káposzta egyedül van a parton, a kecske megeszi a káposztát."
   ]
  },
  {
   "attachments": {},
   "cell_type": "markdown",
   "metadata": {},
   "source": [
    "### Jellemzők\n",
    "\n",
    "- A jellemzők legyenek az egyes szereplők az általuk felvehető értékek pedig, hogy átkeltek, avagy nem a folyón.\n",
    "- Jelöljük 0-val hogy nem keltek át a folyón és 1-el hogy átkeltek\n",
    "- H1 = {0, 1}, farmer\n",
    "- H2 = {0, 1}, kecske\n",
    "- H3 = {0, 1}, farkas \n",
    "- H4 = {0, 1}, káposzta "
   ]
  },
  {
   "attachments": {},
   "cell_type": "markdown",
   "metadata": {},
   "source": [
    "### Állapotok halmaza\n",
    "\n",
    "- A ⊆ H1xH2xH3xH4\n",
    "- Legyen a !-jel a negáció\n",
    "- A = {<a1, a2, a3, a4> | <a1, a2, a3, a4> ∈ H1 x H2 x H3 x H4 ∧ [!(a1==1 ∧ a2==0 ∧ a3==0) v !(a1==1 ∧ a2==0 ∧ a4==0)]}"
   ]
  },
  {
   "attachments": {},
   "cell_type": "markdown",
   "metadata": {},
   "source": [
    "### Kezdő állapot:\n",
    "\n",
    "- a0 = <0, 0, 0, 0>"
   ]
  },
  {
   "attachments": {},
   "cell_type": "markdown",
   "metadata": {},
   "source": [
    "### Célállapotok:\n",
    "\n",
    "- C = <1, 1, 1, 1>"
   ]
  },
  {
   "attachments": {},
   "cell_type": "markdown",
   "metadata": {},
   "source": [
    "### Operátorok:\n",
    "\n",
    "- Legyen 1=farmer,2=farkas,3=kecske,4=kápozsta\n",
    "- O = {oi} = {oi | i ∈{1,2,3,4}} \n",
    "- Dom(oi)={<a1, a2, a3, a4>  | <a1, a2, a3, a4> ∈ A ∧ (a1=a2 ∧ a3!=a4) v (a1=a4 ∧ a2!=a3) v (a1=a3) v (a2!=a3 ∧ a3!=a4)}\n",
    "- oi(<a1, a2, a3, a4> = <b1, b2, b3, b4>)\n",
    "- bk, ahol b=1,2,3,4\n",
    "    - ak=!ak ∧ a1=!a1, ha k=i ∧ i!=1\n",
    "    - a1=!a1, ha k=i ∧ i==1\n",
    "    - ak, egyébként"
   ]
  },
  {
   "attachments": {},
   "cell_type": "markdown",
   "metadata": {},
   "source": [
    "2. (3 pont) Készítsen egy osztályt, amely megvalósítja az állapotér reprezentációt a Problem és Node osztályok segítségével. Az állapottér reprezentáció megvalósításához származzon le a Problem osztályból és írja meg annak \"állapot átmenet függvényét / operátorok / actions\" és \"operátor hatás definícióját / result\". Ha szükséges bármilyen egyéb program csomag a futtatáshoz annak megadásáról se feledkezzen meg."
   ]
  },
  {
   "cell_type": "code",
   "execution_count": 4,
   "metadata": {},
   "outputs": [],
   "source": [
    "# Válasz helye. Válaszát futtatható python kóddal adja meg.\n",
    "class Gazda(Problem):\n",
    "    def __init__(self, initial, goal=None):\n",
    "        super().__init__(initial, goal)\n",
    "        self.rossz = [(1,2), (3,2)]\n",
    "\n",
    "\n",
    "    def actions(self, state):\n",
    "        a1, a2, a3, a4 = state #0,0,0,0 kezdő\n",
    "\n",
    "\n",
    "        acts = []\n",
    "        \n",
    "        \n",
    "        if a1 == a2:\n",
    "            if self.szures((a1^1,a2^1,a3,a4)):\n",
    "                acts.append((1,2))\n",
    "        if a1 == a3:\n",
    "            if self.szures((a1^1,a2,a3^1,a4)):\n",
    "                acts.append((1,3))\n",
    "        if a1 == a4:\n",
    "            if self.szures((a1^1,a2,a3,a4^1)):\n",
    "                acts.append((1,4))\n",
    "        if self.szures((a1^1,a2,a3,a4)):\n",
    "                acts.append((1,1))\n",
    "        print(acts)\n",
    "        return acts        \n",
    "\n",
    "    def result(self, state, action):\n",
    "\n",
    "        a1,ak = action\n",
    "        newstate = list(state)\n",
    "        if a1 != ak:\n",
    "            newstate[a1-1] ^= 1\n",
    "            newstate[ak-1] ^= 1\n",
    "        else:\n",
    "            newstate[a1-1] ^= 1\n",
    "        return tuple(newstate)\n",
    "    def szures(self,state):\n",
    "        a1,a2,a3,a4 = state\n",
    "        return (a1==a2 and a3!=a4) or (a1==a4 and a2!=a3) or (a1==a3) or (a2!=a3 and a3!=a4)\n"
   ]
  },
  {
   "attachments": {},
   "cell_type": "markdown",
   "metadata": {},
   "source": [
    "3. (1 pont) Példányosítsa a reprezentációt a kezdő és cél állapottal majd írassa ki a kezdő sé cél állapotot a \"print()\" függvény segítségével "
   ]
  },
  {
   "cell_type": "code",
   "execution_count": 5,
   "metadata": {},
   "outputs": [
    {
     "name": "stdout",
     "output_type": "stream",
     "text": [
      "(0, 0, 0, 0)\n",
      "(1, 1, 1, 1)\n"
     ]
    }
   ],
   "source": [
    "# Válasz helye. Válaszát futtatható python kóddal adja meg.\n",
    "g = Gazda((0,0,0,0), (1,1,1,1))\n",
    "print(g.initial)\n",
    "print(g.goal)"
   ]
  },
  {
   "attachments": {},
   "cell_type": "markdown",
   "metadata": {},
   "source": [
    "4. (1. pont) Írja meg a próba hiba módszert a megoldás megtalálásához. Írjon megjegyzés szabályos python formátumban amiben leírja, hogy pontosan mit csinál az algoritmus. Ha szükséges bármilyen egyéb program csomag a futtatáshoz annak megadásáról se feledkezzen meg."
   ]
  },
  {
   "cell_type": "code",
   "execution_count": 6,
   "metadata": {},
   "outputs": [],
   "source": [
    "# Válasz helye. Válaszát futtatható python kóddal adja meg.\n",
    "import numpy as np\n",
    "def trial_error(problem: Problem):\n",
    "\n",
    "\n",
    "    node = Node(problem.initial)\n",
    "\n",
    "    while True:\n",
    "        if problem.goal_test(node.state): #megnézzük hogy megvan e a cél\n",
    "            print(\"[+] Got it\")\n",
    "            return node\n",
    "\n",
    "        # lehetésges megoldások\n",
    "        successor = node.expand(problem) # kibővitjuk a következő lehetséges állapotokkal\n",
    "        if len(successor) == 0:\n",
    "            return \"[-] Unsolvable!\" # vakvágányba ütköztünk\n",
    "        node = successor[np.random.randint(0, len(successor))] #választunk egyet a lehetségesek közül\n",
    "        print(node.state)"
   ]
  },
  {
   "attachments": {},
   "cell_type": "markdown",
   "metadata": {},
   "source": [
    "5. (1 pont) Futtasa a próba hiba módszert az elkészített reprezentációra és találja meg a megoldást. "
   ]
  },
  {
   "cell_type": "code",
   "execution_count": 7,
   "metadata": {},
   "outputs": [
    {
     "name": "stdout",
     "output_type": "stream",
     "text": [
      "[(1, 4), (1, 1)]\n",
      "(1, 0, 0, 1)\n",
      "[(1, 4), (1, 1)]\n",
      "(0, 0, 0, 1)\n",
      "[(1, 2), (1, 1)]\n",
      "(1, 1, 0, 1)\n",
      "[(1, 2), (1, 4), (1, 1)]\n",
      "(0, 1, 0, 1)\n",
      "[(1, 3), (1, 1)]\n",
      "(1, 1, 0, 1)\n",
      "[(1, 2), (1, 4), (1, 1)]\n",
      "(0, 1, 0, 1)\n",
      "[(1, 3), (1, 1)]\n",
      "(1, 1, 0, 1)\n",
      "[(1, 2), (1, 4), (1, 1)]\n",
      "(0, 1, 0, 1)\n",
      "[(1, 3), (1, 1)]\n",
      "(1, 1, 1, 1)\n",
      "[+] Got it\n"
     ]
    },
    {
     "data": {
      "text/plain": [
       "(1, 1, 1, 1)"
      ]
     },
     "execution_count": 7,
     "metadata": {},
     "output_type": "execute_result"
    }
   ],
   "source": [
    "# Válasz helye. Válaszát futtatható python kóddal adja meg.\n",
    "trial_error(g).state"
   ]
  },
  {
   "attachments": {},
   "cell_type": "markdown",
   "metadata": {},
   "source": [
    "6. (1 pont) Írja meg a mélységi keresést a megoldás megtalálásához. Írjon megjegyzés szabályos python formátumban amiben leírja, hogy pontosan mit csinál az algoritmus. Ha szükséges bármilyen egyéb program csomag a futtatáshoz annak megadásáról se feledkezzen meg."
   ]
  },
  {
   "cell_type": "code",
   "execution_count": 8,
   "metadata": {},
   "outputs": [],
   "source": [
    "# Válasz helye. Válaszát futtatható python kóddal adja meg.\n",
    "def depth_first_search(problem:Problem):\n",
    "\n",
    "    stack = [Node(problem.initial)]\n",
    "    explored = set()\n",
    "    while stack:\n",
    "\n",
    "        node: Node = stack.pop()\n",
    "        print(node.state)\n",
    "        if problem.goal_test(node.state): #megnéézük hogy megvan e a ceél\n",
    "            return node\n",
    "        \n",
    "\n",
    "        \n",
    "        explored.add(node.state) #hozzáadjuk ahhoz az állapot hogy megnéztük  már\n",
    "\n",
    "        stack.extend(\n",
    "                child for child in node.expand(problem)\n",
    "                if child.state not in explored and child not in stack\n",
    "        ) # kiegészitjuk a lehetséges következő állapotokkal amiket még nem dolgozunk fel"
   ]
  },
  {
   "attachments": {},
   "cell_type": "markdown",
   "metadata": {},
   "source": [
    "7. (1 pont) Futtasa a mélységi keresést az elkészített reprezentációra és találja meg a megoldást. Ha szükséges bármilyen egyéb program csomag a futtatáshoz annak megadásáról se feledkezzen meg.\n"
   ]
  },
  {
   "cell_type": "code",
   "execution_count": 9,
   "metadata": {},
   "outputs": [
    {
     "name": "stdout",
     "output_type": "stream",
     "text": [
      "(0, 0, 0, 0)\n",
      "[(1, 4), (1, 1)]\n",
      "(1, 0, 0, 0)\n",
      "[(1, 1)]\n",
      "(1, 0, 0, 1)\n",
      "[(1, 4), (1, 1)]\n",
      "(0, 0, 0, 1)\n",
      "[(1, 2), (1, 1)]\n",
      "(1, 1, 0, 1)\n",
      "[(1, 2), (1, 4), (1, 1)]\n",
      "(0, 1, 0, 1)\n",
      "[(1, 3), (1, 1)]\n",
      "(1, 1, 1, 1)\n"
     ]
    },
    {
     "data": {
      "text/plain": [
       "<__main__.Node at 0x7fead41a3520>"
      ]
     },
     "execution_count": 9,
     "metadata": {},
     "output_type": "execute_result"
    }
   ],
   "source": [
    "# Válasz helye. Válaszát futtatható python kóddal adja meg.\n",
    "depth_first_search(g)"
   ]
  }
 ],
 "metadata": {
  "kernelspec": {
   "display_name": "Python 3",
   "language": "python",
   "name": "python3"
  },
  "language_info": {
   "codemirror_mode": {
    "name": "ipython",
    "version": 3
   },
   "file_extension": ".py",
   "mimetype": "text/x-python",
   "name": "python",
   "nbconvert_exporter": "python",
   "pygments_lexer": "ipython3",
   "version": "3.10.6"
  },
  "orig_nbformat": 4
 },
 "nbformat": 4,
 "nbformat_minor": 2
}
