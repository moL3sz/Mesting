{
 "cells": [
  {
   "cell_type": "markdown",
   "metadata": {},
   "source": []
  },
  {
   "cell_type": "code",
   "execution_count": 6,
   "metadata": {},
   "outputs": [],
   "source": [
    "import pandas as pd\n",
    "\n",
    "import tensorflow_datasets as tfds\n",
    "\n",
    "from tqdm import tqdm\n",
    "\n",
    "\n",
    "\n",
    "dataset_train = tfds.load(\"imdb_reviews\", split=\"train\",shuffle_files=True)\n",
    "dataset_test = tfds.load(\"imdb_reviews\", split=\"test\",shuffle_files=True)\n"
   ]
  },
  {
   "cell_type": "code",
   "execution_count": 11,
   "metadata": {},
   "outputs": [],
   "source": [
    "def convert_to_df(dataset):\n",
    "    data = [{\"text\":item[\"text\"].numpy().decode(\"utf-8\"), \"label\":item[\"label\"].numpy()} for item in tqdm(dataset)]\n",
    "    return pd.DataFrame(data)"
   ]
  },
  {
   "cell_type": "code",
   "execution_count": 13,
   "metadata": {},
   "outputs": [
    {
     "name": "stderr",
     "output_type": "stream",
     "text": [
      "\n",
      "  0%|                                                                                                                                              | 0/25000 [00:00<?, ?it/s]\u001b[A\n",
      "  5%|██████▌                                                                                                                         | 1293/25000 [00:00<00:01, 12929.00it/s]\u001b[A\n",
      " 11%|█████████████▊                                                                                                                  | 2690/25000 [00:00<00:01, 13224.54it/s]\u001b[A\n",
      " 16%|████████████████████▉                                                                                                           | 4084/25000 [00:00<00:01, 13429.34it/s]\u001b[A\n",
      " 22%|███████████████████████████▊                                                                                                    | 5420/25000 [00:00<00:01, 13405.74it/s]\u001b[A\n",
      " 27%|███████████████████████████████████▏                                                                                            | 6867/25000 [00:00<00:01, 13706.28it/s]\u001b[A\n",
      " 33%|██████████████████████████████████████████▎                                                                                     | 8273/25000 [00:00<00:01, 13810.34it/s]\u001b[A\n",
      " 39%|█████████████████████████████████████████████████▎                                                                              | 9626/25000 [00:00<00:01, 13723.74it/s]\u001b[A\n",
      " 44%|████████████████████████████████████████████████████████▍                                                                      | 11103/25000 [00:00<00:00, 14020.67it/s]\u001b[A\n",
      " 50%|███████████████████████████████████████████████████████████████▉                                                               | 12596/25000 [00:00<00:00, 14279.84it/s]\u001b[A\n",
      " 56%|███████████████████████████████████████████████████████████████████████▎                                                       | 14031/25000 [00:01<00:00, 14298.40it/s]\u001b[A\n",
      " 62%|██████████████████████████████████████████████████████████████████████████████▎                                                | 15427/25000 [00:01<00:00, 13895.40it/s]\u001b[A\n",
      " 67%|█████████████████████████████████████████████████████████████████████████████████████▎                                         | 16795/25000 [00:01<00:00, 13785.57it/s]\u001b[A\n",
      " 73%|████████████████████████████████████████████████████████████████████████████████████████████▏                                  | 18159/25000 [00:01<00:00, 13693.46it/s]\u001b[A\n",
      " 78%|███████████████████████████████████████████████████████████████████████████████████████████████████▏                           | 19519/25000 [00:01<00:00, 13643.88it/s]\u001b[A\n",
      " 84%|██████████████████████████████████████████████████████████████████████████████████████████████████████████▌                    | 20981/25000 [00:01<00:00, 13921.60it/s]\u001b[A\n",
      " 90%|█████████████████████████████████████████████████████████████████████████████████████████████████████████████████▊             | 22404/25000 [00:01<00:00, 14012.31it/s]\u001b[A\n",
      "100%|███████████████████████████████████████████████████████████████████████████████████████████████████████████████████████████████| 25000/25000 [00:01<00:00, 13651.52it/s]\u001b[A\n",
      "\n",
      "  0%|                                                                                                                                              | 0/25000 [00:00<?, ?it/s]\u001b[A2023-04-20 11:08:57.587913: I tensorflow/core/common_runtime/executor.cc:1197] [/device:CPU:0] (DEBUG INFO) Executor start aborting (this does not indicate an error and you can ignore this message): INVALID_ARGUMENT: You must feed a value for placeholder tensor 'Placeholder/_0' with dtype string and shape [1]\n",
      "\t [[{{node Placeholder/_0}}]]\n",
      "2023-04-20 11:08:57.588229: I tensorflow/core/common_runtime/executor.cc:1197] [/device:CPU:0] (DEBUG INFO) Executor start aborting (this does not indicate an error and you can ignore this message): INVALID_ARGUMENT: You must feed a value for placeholder tensor 'Placeholder/_1' with dtype string and shape [1]\n",
      "\t [[{{node Placeholder/_1}}]]\n",
      "\n",
      "  3%|███▍                                                                                                                              | 671/25000 [00:00<00:03, 6707.90it/s]\u001b[A\n",
      "  7%|█████████                                                                                                                        | 1767/25000 [00:00<00:03, 7590.70it/s]\u001b[A\n",
      " 12%|██████████████▊                                                                                                                  | 2877/25000 [00:00<00:02, 8385.09it/s]\u001b[A\n",
      " 16%|████████████████████▎                                                                                                            | 3932/25000 [00:00<00:02, 8934.02it/s]\u001b[A\n",
      " 20%|█████████████████████████▊                                                                                                       | 4999/25000 [00:00<00:02, 9391.84it/s]\u001b[A\n",
      " 24%|███████████████████████████████▌                                                                                                 | 6106/25000 [00:00<00:01, 9837.91it/s]\u001b[A\n",
      " 29%|█████████████████████████████████████▏                                                                                          | 7254/25000 [00:00<00:01, 10278.80it/s]\u001b[A\n",
      " 34%|███████████████████████████████████████████▌                                                                                    | 8511/25000 [00:00<00:01, 10871.60it/s]\u001b[A\n",
      " 39%|██████████████████████████████████████████████████▏                                                                             | 9806/25000 [00:00<00:01, 11420.52it/s]\u001b[A\n",
      " 45%|████████████████████████████████████████████████████████▋                                                                      | 11149/25000 [00:01<00:01, 11955.10it/s]\u001b[A\n",
      " 50%|███████████████████████████████████████████████████████████████▏                                                               | 12440/25000 [00:01<00:01, 12224.34it/s]\u001b[A\n",
      " 55%|█████████████████████████████████████████████████████████████████████▍                                                         | 13669/25000 [00:01<00:00, 12213.79it/s]\u001b[A\n",
      " 60%|███████████████████████████████████████████████████████████████████████████▋                                                   | 14895/25000 [00:01<00:00, 11996.73it/s]\u001b[A\n",
      " 64%|█████████████████████████████████████████████████████████████████████████████████▊                                             | 16099/25000 [00:01<00:00, 11866.01it/s]\u001b[A\n",
      " 70%|████████████████████████████████████████████████████████████████████████████████████████▎                                      | 17378/25000 [00:01<00:00, 12128.77it/s]\u001b[A\n",
      " 74%|██████████████████████████████████████████████████████████████████████████████████████████████▍                                | 18595/25000 [00:01<00:00, 11984.28it/s]\u001b[A\n",
      " 79%|████████████████████████████████████████████████████████████████████████████████████████████████████▌                          | 19798/25000 [00:01<00:00, 11995.51it/s]\u001b[A\n",
      " 84%|██████████████████████████████████████████████████████████████████████████████████████████████████████████▉                    | 21061/25000 [00:01<00:00, 12176.95it/s]\u001b[A\n",
      " 90%|█████████████████████████████████████████████████████████████████████████████████████████████████████████████████▋             | 22390/25000 [00:01<00:00, 12490.30it/s]\u001b[A\n",
      " 95%|████████████████████████████████████████████████████████████████████████████████████████████████████████████████████████       | 23643/25000 [00:02<00:00, 12471.57it/s]\u001b[A\n",
      "100%|███████████████████████████████████████████████████████████████████████████████████████████████████████████████████████████████| 25000/25000 [00:02<00:00, 11777.37it/s]\u001b[A\n"
     ]
    }
   ],
   "source": [
    "df_train = convert_to_df(dataset_train)\n",
    "df_test = convert_to_df(dataset_test)"
   ]
  },
  {
   "cell_type": "code",
   "execution_count": null,
   "metadata": {},
   "outputs": [],
   "source": []
  },
  {
   "cell_type": "code",
   "execution_count": 7,
   "metadata": {},
   "outputs": [
    {
     "data": {
      "text/plain": [
       "<_PrefetchDataset element_spec={'label': TensorSpec(shape=(), dtype=tf.int64, name=None), 'text': TensorSpec(shape=(), dtype=tf.string, name=None)}>"
      ]
     },
     "execution_count": 7,
     "metadata": {},
     "output_type": "execute_result"
    }
   ],
   "source": [
    "def sentiment(value):\n",
    "    if value == 1:\n",
    "        return \"positive\"\n",
    "    return \"negative\""
   ]
  },
  {
   "cell_type": "code",
   "execution_count": 34,
   "metadata": {},
   "outputs": [
    {
     "name": "stderr",
     "output_type": "stream",
     "text": [
      "[nltk_data] Downloading package stopwords to /home/molesz/nltk_data...\n",
      "[nltk_data]   Package stopwords is already up-to-date!\n"
     ]
    }
   ],
   "source": [
    "import nltk\n",
    "from nltk.tokenize import sent_tokenize, word_tokenize\n",
    "from nltk.corpus import stopwords\n",
    "nltk.download(\"stopwords\")\n",
    "STOPWORDS = stopwords.words(\"english\")"
   ]
  },
  {
   "cell_type": "code",
   "execution_count": 16,
   "metadata": {},
   "outputs": [],
   "source": [
    "from bs4 import BeautifulSoup\n",
    "\n",
    "\n",
    "def remove_html_tags(text):\n",
    "    s = BeautifulSoup(text)\n",
    "    return s.get_text()"
   ]
  },
  {
   "cell_type": "code",
   "execution_count": 19,
   "metadata": {},
   "outputs": [],
   "source": [
    "df_train[\"text\"] = df_train[\"text\"].apply(remove_html_tags)\n"
   ]
  },
  {
   "cell_type": "code",
   "execution_count": 21,
   "metadata": {},
   "outputs": [
    {
     "name": "stderr",
     "output_type": "stream",
     "text": [
      "[nltk_data] Downloading package punkt to /home/molesz/nltk_data...\n",
      "[nltk_data]   Unzipping tokenizers/punkt.zip.\n"
     ]
    },
    {
     "data": {
      "text/plain": [
       "True"
      ]
     },
     "execution_count": 21,
     "metadata": {},
     "output_type": "execute_result"
    }
   ],
   "source": [
    "nltk.download(\"punkt\")"
   ]
  },
  {
   "cell_type": "code",
   "execution_count": 25,
   "metadata": {},
   "outputs": [],
   "source": [
    "tokenized_reviews =df_train[\"text\"].apply(lambda review_text: word_tokenize(review_text.replace(\"\\n\",\"\").lower() ))"
   ]
  },
  {
   "cell_type": "code",
   "execution_count": 26,
   "metadata": {},
   "outputs": [
    {
     "data": {
      "text/plain": [
       "0    [this, was, an, absolutely, terrible, movie, ....\n",
       "1    [i, have, been, known, to, fall, asleep, durin...\n",
       "2    [mann, photographs, the, alberta, rocky, mount...\n",
       "3    [this, is, the, kind, of, film, for, a, snowy,...\n",
       "4    [as, others, have, mentioned, ,, all, the, wom...\n",
       "Name: text, dtype: object"
      ]
     },
     "execution_count": 26,
     "metadata": {},
     "output_type": "execute_result"
    }
   ],
   "source": [
    "tokenized_reviews.head()"
   ]
  },
  {
   "cell_type": "code",
   "execution_count": 35,
   "metadata": {},
   "outputs": [
    {
     "name": "stderr",
     "output_type": "stream",
     "text": [
      "\n",
      "  0%|                                                                                                                                              | 0/25000 [00:00<?, ?it/s]\u001b[A\n",
      "  2%|██▌                                                                                                                               | 501/25000 [00:00<00:04, 4994.52it/s]\u001b[A\n",
      "  4%|█████                                                                                                                             | 970/25000 [00:00<00:04, 4898.96it/s]\u001b[A\n",
      "  6%|███████▍                                                                                                                         | 1448/25000 [00:00<00:04, 4858.07it/s]\u001b[A\n",
      "  8%|█████████▊                                                                                                                       | 1898/25000 [00:00<00:04, 4737.01it/s]\u001b[A\n",
      "  9%|████████████▏                                                                                                                    | 2350/25000 [00:00<00:04, 4669.06it/s]\u001b[A\n",
      " 11%|██████████████▍                                                                                                                  | 2792/25000 [00:00<00:04, 4586.27it/s]\u001b[A\n",
      " 13%|████████████████▊                                                                                                                | 3252/25000 [00:00<00:04, 4590.03it/s]\u001b[A\n",
      " 15%|██████████████████▉                                                                                                              | 3677/25000 [00:00<00:04, 4482.24it/s]\u001b[A\n",
      " 17%|█████████████████████▎                                                                                                           | 4135/25000 [00:00<00:04, 4510.09it/s]\u001b[A\n",
      " 18%|███████████████████████▌                                                                                                         | 4567/25000 [00:01<00:04, 4425.14it/s]\u001b[A\n",
      " 20%|█████████████████████████▊                                                                                                       | 4999/25000 [00:01<00:04, 4391.73it/s]\u001b[A\n",
      " 22%|████████████████████████████                                                                                                     | 5429/25000 [00:01<00:04, 4293.80it/s]\u001b[A\n",
      " 23%|██████████████████████████████▏                                                                                                  | 5853/25000 [00:01<00:04, 4263.78it/s]\u001b[A\n",
      " 25%|████████████████████████████████▍                                                                                                | 6278/25000 [00:01<00:04, 4258.23it/s]\u001b[A\n",
      " 27%|██████████████████████████████████▌                                                                                              | 6701/25000 [00:01<00:04, 4062.16it/s]\u001b[A\n",
      " 28%|████████████████████████████████████▋                                                                                            | 7108/25000 [00:01<00:04, 3927.01it/s]\u001b[A\n",
      " 30%|██████████████████████████████████████▋                                                                                          | 7502/25000 [00:01<00:04, 3784.62it/s]\u001b[A\n",
      " 32%|████████████████████████████████████████▋                                                                                        | 7883/25000 [00:01<00:04, 3714.95it/s]\u001b[A\n",
      " 33%|██████████████████████████████████████████▋                                                                                      | 8279/25000 [00:01<00:04, 3784.17it/s]\u001b[A\n",
      " 35%|████████████████████████████████████████████▉                                                                                    | 8698/25000 [00:02<00:04, 3895.18it/s]\u001b[A\n",
      " 37%|███████████████████████████████████████████████▏                                                                                 | 9147/25000 [00:02<00:03, 4055.44it/s]\u001b[A\n",
      " 38%|█████████████████████████████████████████████████▎                                                                               | 9568/25000 [00:02<00:03, 4099.91it/s]\u001b[A\n",
      " 40%|███████████████████████████████████████████████████▎                                                                            | 10013/25000 [00:02<00:03, 4195.57it/s]\u001b[A\n",
      " 42%|█████████████████████████████████████████████████████▌                                                                          | 10454/25000 [00:02<00:03, 4257.31it/s]\u001b[A\n",
      " 44%|███████████████████████████████████████████████████████▊                                                                        | 10903/25000 [00:02<00:03, 4321.52it/s]\u001b[A\n",
      " 45%|██████████████████████████████████████████████████████████                                                                      | 11337/25000 [00:02<00:03, 4070.91it/s]\u001b[A\n",
      " 47%|████████████████████████████████████████████████████████████▏                                                                   | 11749/25000 [00:02<00:03, 3977.59it/s]\u001b[A\n",
      " 49%|██████████████████████████████████████████████████████████████▏                                                                 | 12151/25000 [00:02<00:03, 3858.02it/s]\u001b[A\n",
      " 50%|████████████████████████████████████████████████████████████████▏                                                               | 12540/25000 [00:03<00:03, 3831.14it/s]\u001b[A\n",
      " 52%|██████████████████████████████████████████████████████████████████▏                                                             | 12926/25000 [00:03<00:03, 3820.68it/s]\u001b[A\n",
      " 53%|████████████████████████████████████████████████████████████████████▏                                                           | 13310/25000 [00:03<00:03, 3749.46it/s]\u001b[A\n",
      " 55%|██████████████████████████████████████████████████████████████████████▏                                                         | 13710/25000 [00:03<00:02, 3819.91it/s]\u001b[A\n",
      " 57%|████████████████████████████████████████████████████████████████████████▍                                                       | 14143/25000 [00:03<00:02, 3958.83it/s]\u001b[A\n",
      " 58%|██████████████████████████████████████████████████████████████████████████▊                                                     | 14605/25000 [00:03<00:02, 4133.57it/s]\u001b[A\n",
      " 60%|████████████████████████████████████████████████████████████████████████████▉                                                   | 15022/25000 [00:03<00:02, 4132.62it/s]\u001b[A\n",
      " 62%|███████████████████████████████████████████████████████████████████████████████▏                                                | 15463/25000 [00:03<00:02, 4211.78it/s]\u001b[A\n",
      " 64%|█████████████████████████████████████████████████████████████████████████████████▎                                              | 15887/25000 [00:03<00:02, 3986.14it/s]\u001b[A\n",
      " 65%|███████████████████████████████████████████████████████████████████████████████████▍                                            | 16290/25000 [00:03<00:02, 3870.06it/s]\u001b[A\n",
      " 67%|█████████████████████████████████████████████████████████████████████████████████████▍                                          | 16681/25000 [00:04<00:02, 3786.37it/s]\u001b[A\n",
      " 68%|███████████████████████████████████████████████████████████████████████████████████████▎                                        | 17063/25000 [00:04<00:02, 3759.53it/s]\u001b[A\n",
      " 70%|█████████████████████████████████████████████████████████████████████████████████████████▎                                      | 17442/25000 [00:04<00:02, 3670.18it/s]\u001b[A\n",
      " 71%|███████████████████████████████████████████████████████████████████████████████████████████▏                                    | 17811/25000 [00:04<00:01, 3675.01it/s]\u001b[A\n",
      " 73%|█████████████████████████████████████████████████████████████████████████████████████████████                                   | 18180/25000 [00:04<00:01, 3646.34it/s]\u001b[A\n",
      " 74%|███████████████████████████████████████████████████████████████████████████████████████████████                                 | 18557/25000 [00:04<00:01, 3682.01it/s]\u001b[A\n",
      " 76%|████████████████████████████████████████████████████████████████████████████████████████████████▉                               | 18926/25000 [00:04<00:01, 3505.47it/s]\u001b[A\n"
     ]
    },
    {
     "name": "stderr",
     "output_type": "stream",
     "text": [
      " 77%|██████████████████████████████████████████████████████████████████████████████████████████████████▋                             | 19279/25000 [00:04<00:01, 3489.16it/s]\u001b[A\n",
      " 79%|████████████████████████████████████████████████████████████████████████████████████████████████████▌                           | 19631/25000 [00:04<00:01, 3496.98it/s]\u001b[A\n",
      " 80%|██████████████████████████████████████████████████████████████████████████████████████████████████████▎                         | 19982/25000 [00:04<00:01, 3496.80it/s]\u001b[A\n",
      " 81%|████████████████████████████████████████████████████████████████████████████████████████████████████████                        | 20333/25000 [00:05<00:01, 3479.09it/s]\u001b[A\n",
      " 83%|██████████████████████████████████████████████████████████████████████████████████████████████████████████                      | 20726/25000 [00:05<00:01, 3601.30it/s]\u001b[A\n",
      " 84%|███████████████████████████████████████████████████████████████████████████████████████████████████████████▉                    | 21088/25000 [00:05<00:01, 3570.60it/s]\u001b[A\n",
      " 86%|█████████████████████████████████████████████████████████████████████████████████████████████████████████████▊                  | 21447/25000 [00:05<00:00, 3563.18it/s]\u001b[A\n",
      " 87%|███████████████████████████████████████████████████████████████████████████████████████████████████████████████▋                | 21821/25000 [00:05<00:00, 3610.31it/s]\u001b[A\n",
      " 89%|█████████████████████████████████████████████████████████████████████████████████████████████████████████████████▌              | 22183/25000 [00:05<00:00, 3586.10it/s]\u001b[A\n",
      " 90%|███████████████████████████████████████████████████████████████████████████████████████████████████████████████████▍            | 22551/25000 [00:05<00:00, 3610.37it/s]\u001b[A\n",
      " 92%|█████████████████████████████████████████████████████████████████████████████████████████████████████████████████████▎          | 22919/25000 [00:05<00:00, 3629.39it/s]\u001b[A\n",
      " 93%|███████████████████████████████████████████████████████████████████████████████████████████████████████████████████████▍        | 23328/25000 [00:05<00:00, 3754.40it/s]\u001b[A\n",
      " 95%|█████████████████████████████████████████████████████████████████████████████████████████████████████████████████████████▋      | 23779/25000 [00:05<00:00, 3952.80it/s]\u001b[A\n",
      " 97%|████████████████████████████████████████████████████████████████████████████████████████████████████████████████████████████    | 24225/25000 [00:06<00:00, 4091.49it/s]\u001b[A\n",
      "100%|████████████████████████████████████████████████████████████████████████████████████████████████████████████████████████████████| 25000/25000 [00:06<00:00, 3991.10it/s]\u001b[A\n"
     ]
    }
   ],
   "source": [
    "d = dict()\n",
    "for review in tqdm(tokenized_reviews):\n",
    "    for word in review:\n",
    "        if word not in STOPWORDS  and word.isalpha():\n",
    "            d[word] = d.get(word,0) + 1"
   ]
  },
  {
   "cell_type": "code",
   "execution_count": 36,
   "metadata": {},
   "outputs": [
    {
     "data": {
      "text/plain": [
       "[('movie', 42586),\n",
       " ('film', 38763),\n",
       " ('one', 25574),\n",
       " ('like', 19664),\n",
       " ('good', 14612),\n",
       " ('would', 13378),\n",
       " ('even', 12452),\n",
       " ('time', 11904),\n",
       " ('really', 11682),\n",
       " ('story', 11559)]"
      ]
     },
     "execution_count": 36,
     "metadata": {},
     "output_type": "execute_result"
    }
   ],
   "source": [
    "d = sorted(d.items(), key=lambda item: item[1], reverse=True)\n",
    "d[:10]"
   ]
  },
  {
   "cell_type": "code",
   "execution_count": 38,
   "metadata": {},
   "outputs": [
    {
     "data": {
      "text/html": [
       "<div>\n",
       "<style scoped>\n",
       "    .dataframe tbody tr th:only-of-type {\n",
       "        vertical-align: middle;\n",
       "    }\n",
       "\n",
       "    .dataframe tbody tr th {\n",
       "        vertical-align: top;\n",
       "    }\n",
       "\n",
       "    .dataframe thead th {\n",
       "        text-align: right;\n",
       "    }\n",
       "</style>\n",
       "<table border=\"1\" class=\"dataframe\">\n",
       "  <thead>\n",
       "    <tr style=\"text-align: right;\">\n",
       "      <th></th>\n",
       "      <th>word</th>\n",
       "    </tr>\n",
       "  </thead>\n",
       "  <tbody>\n",
       "    <tr>\n",
       "      <th>0</th>\n",
       "      <td>movie</td>\n",
       "    </tr>\n",
       "    <tr>\n",
       "      <th>1</th>\n",
       "      <td>film</td>\n",
       "    </tr>\n",
       "    <tr>\n",
       "      <th>2</th>\n",
       "      <td>one</td>\n",
       "    </tr>\n",
       "    <tr>\n",
       "      <th>3</th>\n",
       "      <td>like</td>\n",
       "    </tr>\n",
       "    <tr>\n",
       "      <th>4</th>\n",
       "      <td>good</td>\n",
       "    </tr>\n",
       "    <tr>\n",
       "      <th>5</th>\n",
       "      <td>would</td>\n",
       "    </tr>\n",
       "    <tr>\n",
       "      <th>6</th>\n",
       "      <td>even</td>\n",
       "    </tr>\n",
       "    <tr>\n",
       "      <th>7</th>\n",
       "      <td>time</td>\n",
       "    </tr>\n",
       "    <tr>\n",
       "      <th>8</th>\n",
       "      <td>really</td>\n",
       "    </tr>\n",
       "    <tr>\n",
       "      <th>9</th>\n",
       "      <td>story</td>\n",
       "    </tr>\n",
       "  </tbody>\n",
       "</table>\n",
       "</div>"
      ],
      "text/plain": [
       "     word\n",
       "0   movie\n",
       "1    film\n",
       "2     one\n",
       "3    like\n",
       "4    good\n",
       "5   would\n",
       "6    even\n",
       "7    time\n",
       "8  really\n",
       "9   story"
      ]
     },
     "execution_count": 38,
     "metadata": {},
     "output_type": "execute_result"
    }
   ],
   "source": [
    "DESIRED_VOCAB_SIZE = 4000\n",
    "\n",
    "VOCAB = [k for k,v in d[:DESIRED_VOCAB_SIZE]]\n",
    "word_table = pd.DataFrame({\"word\": VOCAB})\n",
    "word_table.head(10)"
   ]
  },
  {
   "cell_type": "code",
   "execution_count": 44,
   "metadata": {},
   "outputs": [
    {
     "ename": "KeyError",
     "evalue": "'sentiment'",
     "output_type": "error",
     "traceback": [
      "\u001b[0;31m---------------------------------------------------------------------------\u001b[0m",
      "\u001b[0;31mKeyError\u001b[0m                                  Traceback (most recent call last)",
      "File \u001b[0;32m~/.local/lib/python3.10/site-packages/pandas/core/indexes/base.py:3652\u001b[0m, in \u001b[0;36mIndex.get_loc\u001b[0;34m(self, key)\u001b[0m\n\u001b[1;32m   3651\u001b[0m \u001b[38;5;28;01mtry\u001b[39;00m:\n\u001b[0;32m-> 3652\u001b[0m     \u001b[38;5;28;01mreturn\u001b[39;00m \u001b[38;5;28;43mself\u001b[39;49m\u001b[38;5;241;43m.\u001b[39;49m\u001b[43m_engine\u001b[49m\u001b[38;5;241;43m.\u001b[39;49m\u001b[43mget_loc\u001b[49m\u001b[43m(\u001b[49m\u001b[43mcasted_key\u001b[49m\u001b[43m)\u001b[49m\n\u001b[1;32m   3653\u001b[0m \u001b[38;5;28;01mexcept\u001b[39;00m \u001b[38;5;167;01mKeyError\u001b[39;00m \u001b[38;5;28;01mas\u001b[39;00m err:\n",
      "File \u001b[0;32m~/.local/lib/python3.10/site-packages/pandas/_libs/index.pyx:147\u001b[0m, in \u001b[0;36mpandas._libs.index.IndexEngine.get_loc\u001b[0;34m()\u001b[0m\n",
      "File \u001b[0;32m~/.local/lib/python3.10/site-packages/pandas/_libs/index.pyx:176\u001b[0m, in \u001b[0;36mpandas._libs.index.IndexEngine.get_loc\u001b[0;34m()\u001b[0m\n",
      "File \u001b[0;32mpandas/_libs/hashtable_class_helper.pxi:7080\u001b[0m, in \u001b[0;36mpandas._libs.hashtable.PyObjectHashTable.get_item\u001b[0;34m()\u001b[0m\n",
      "File \u001b[0;32mpandas/_libs/hashtable_class_helper.pxi:7088\u001b[0m, in \u001b[0;36mpandas._libs.hashtable.PyObjectHashTable.get_item\u001b[0;34m()\u001b[0m\n",
      "\u001b[0;31mKeyError\u001b[0m: 'sentiment'",
      "\nThe above exception was the direct cause of the following exception:\n",
      "\u001b[0;31mKeyError\u001b[0m                                  Traceback (most recent call last)",
      "Input \u001b[0;32mIn [44]\u001b[0m, in \u001b[0;36m<cell line: 7>\u001b[0;34m()\u001b[0m\n\u001b[1;32m      7\u001b[0m \u001b[38;5;28;01mfor\u001b[39;00m idx \u001b[38;5;129;01min\u001b[39;00m \u001b[38;5;28mrange\u001b[39m(df_train\u001b[38;5;241m.\u001b[39mshape[\u001b[38;5;241m0\u001b[39m]):\n\u001b[1;32m      8\u001b[0m     review \u001b[38;5;241m=\u001b[39m df_train\u001b[38;5;241m.\u001b[39miloc[idx][\u001b[38;5;124m\"\u001b[39m\u001b[38;5;124mtext\u001b[39m\u001b[38;5;124m\"\u001b[39m]\n\u001b[0;32m----> 9\u001b[0m     sentiment \u001b[38;5;241m=\u001b[39m \u001b[43mdf_train\u001b[49m\u001b[38;5;241;43m.\u001b[39;49m\u001b[43miloc\u001b[49m\u001b[43m[\u001b[49m\u001b[43midx\u001b[49m\u001b[43m]\u001b[49m\u001b[43m[\u001b[49m\u001b[38;5;124;43m\"\u001b[39;49m\u001b[38;5;124;43msentiment\u001b[39;49m\u001b[38;5;124;43m\"\u001b[39;49m\u001b[43m]\u001b[49m\n\u001b[1;32m     12\u001b[0m     \u001b[38;5;28;01mfor\u001b[39;00m word \u001b[38;5;129;01min\u001b[39;00m review\u001b[38;5;241m.\u001b[39msplit(\u001b[38;5;124m\"\u001b[39m\u001b[38;5;124m \u001b[39m\u001b[38;5;124m\"\u001b[39m):\n\u001b[1;32m     13\u001b[0m         \u001b[38;5;28;01mif\u001b[39;00m word \u001b[38;5;129;01min\u001b[39;00m VOCAB_IDX:\n",
      "File \u001b[0;32m~/.local/lib/python3.10/site-packages/pandas/core/series.py:1012\u001b[0m, in \u001b[0;36mSeries.__getitem__\u001b[0;34m(self, key)\u001b[0m\n\u001b[1;32m   1009\u001b[0m     \u001b[38;5;28;01mreturn\u001b[39;00m \u001b[38;5;28mself\u001b[39m\u001b[38;5;241m.\u001b[39m_values[key]\n\u001b[1;32m   1011\u001b[0m \u001b[38;5;28;01melif\u001b[39;00m key_is_scalar:\n\u001b[0;32m-> 1012\u001b[0m     \u001b[38;5;28;01mreturn\u001b[39;00m \u001b[38;5;28;43mself\u001b[39;49m\u001b[38;5;241;43m.\u001b[39;49m\u001b[43m_get_value\u001b[49m\u001b[43m(\u001b[49m\u001b[43mkey\u001b[49m\u001b[43m)\u001b[49m\n\u001b[1;32m   1014\u001b[0m \u001b[38;5;28;01mif\u001b[39;00m is_hashable(key):\n\u001b[1;32m   1015\u001b[0m     \u001b[38;5;66;03m# Otherwise index.get_value will raise InvalidIndexError\u001b[39;00m\n\u001b[1;32m   1016\u001b[0m     \u001b[38;5;28;01mtry\u001b[39;00m:\n\u001b[1;32m   1017\u001b[0m         \u001b[38;5;66;03m# For labels that don't resolve as scalars like tuples and frozensets\u001b[39;00m\n",
      "File \u001b[0;32m~/.local/lib/python3.10/site-packages/pandas/core/series.py:1121\u001b[0m, in \u001b[0;36mSeries._get_value\u001b[0;34m(self, label, takeable)\u001b[0m\n\u001b[1;32m   1118\u001b[0m     \u001b[38;5;28;01mreturn\u001b[39;00m \u001b[38;5;28mself\u001b[39m\u001b[38;5;241m.\u001b[39m_values[label]\n\u001b[1;32m   1120\u001b[0m \u001b[38;5;66;03m# Similar to Index.get_value, but we do not fall back to positional\u001b[39;00m\n\u001b[0;32m-> 1121\u001b[0m loc \u001b[38;5;241m=\u001b[39m \u001b[38;5;28;43mself\u001b[39;49m\u001b[38;5;241;43m.\u001b[39;49m\u001b[43mindex\u001b[49m\u001b[38;5;241;43m.\u001b[39;49m\u001b[43mget_loc\u001b[49m\u001b[43m(\u001b[49m\u001b[43mlabel\u001b[49m\u001b[43m)\u001b[49m\n\u001b[1;32m   1123\u001b[0m \u001b[38;5;28;01mif\u001b[39;00m is_integer(loc):\n\u001b[1;32m   1124\u001b[0m     \u001b[38;5;28;01mreturn\u001b[39;00m \u001b[38;5;28mself\u001b[39m\u001b[38;5;241m.\u001b[39m_values[loc]\n",
      "File \u001b[0;32m~/.local/lib/python3.10/site-packages/pandas/core/indexes/base.py:3654\u001b[0m, in \u001b[0;36mIndex.get_loc\u001b[0;34m(self, key)\u001b[0m\n\u001b[1;32m   3652\u001b[0m     \u001b[38;5;28;01mreturn\u001b[39;00m \u001b[38;5;28mself\u001b[39m\u001b[38;5;241m.\u001b[39m_engine\u001b[38;5;241m.\u001b[39mget_loc(casted_key)\n\u001b[1;32m   3653\u001b[0m \u001b[38;5;28;01mexcept\u001b[39;00m \u001b[38;5;167;01mKeyError\u001b[39;00m \u001b[38;5;28;01mas\u001b[39;00m err:\n\u001b[0;32m-> 3654\u001b[0m     \u001b[38;5;28;01mraise\u001b[39;00m \u001b[38;5;167;01mKeyError\u001b[39;00m(key) \u001b[38;5;28;01mfrom\u001b[39;00m \u001b[38;5;21;01merr\u001b[39;00m\n\u001b[1;32m   3655\u001b[0m \u001b[38;5;28;01mexcept\u001b[39;00m \u001b[38;5;167;01mTypeError\u001b[39;00m:\n\u001b[1;32m   3656\u001b[0m     \u001b[38;5;66;03m# If we have a listlike key, _check_indexing_error will raise\u001b[39;00m\n\u001b[1;32m   3657\u001b[0m     \u001b[38;5;66;03m#  InvalidIndexError. Otherwise we fall through and re-raise\u001b[39;00m\n\u001b[1;32m   3658\u001b[0m     \u001b[38;5;66;03m#  the TypeError.\u001b[39;00m\n\u001b[1;32m   3659\u001b[0m     \u001b[38;5;28mself\u001b[39m\u001b[38;5;241m.\u001b[39m_check_indexing_error(key)\n",
      "\u001b[0;31mKeyError\u001b[0m: 'sentiment'"
     ]
    }
   ],
   "source": [
    "dic_freqs = {\"positive\": {}, \"negative\": {}}\n",
    "\n",
    "VOCAB_IDX = {}\n",
    "for i in range(0, len(word_table[\"word\"].values)):\n",
    "    VOCAB_IDX[word_table[\"word\"].values[i]] = i\n",
    "    \n",
    "for idx in range(df_train.shape[0]):\n",
    "    review = df_train.iloc[idx][\"text\"]\n",
    "    sentiment = df_train.iloc[idx][\"sentiment\"]\n",
    "    \n",
    "    \n",
    "    for word in review.split(\" \"):\n",
    "        if word in VOCAB_IDX:\n",
    "            dic_freq[sentiment][word] = dic_freq[sentiment].get(word,0) + 1"
   ]
  }
 ],
 "metadata": {
  "kernelspec": {
   "display_name": "Python 3 (ipykernel)",
   "language": "python",
   "name": "python3"
  },
  "language_info": {
   "codemirror_mode": {
    "name": "ipython",
    "version": 3
   },
   "file_extension": ".py",
   "mimetype": "text/x-python",
   "name": "python",
   "nbconvert_exporter": "python",
   "pygments_lexer": "ipython3",
   "version": "3.10.6"
  },
  "vscode": {
   "interpreter": {
    "hash": "916dbcbb3f70747c44a77c7bcd40155683ae19c65e1c03b4aa3499c5328201f1"
   }
  }
 },
 "nbformat": 4,
 "nbformat_minor": 2
}
