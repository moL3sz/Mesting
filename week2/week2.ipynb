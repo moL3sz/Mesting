{
 "cells": [
  {
   "attachments": {},
   "cell_type": "markdown",
   "metadata": {},
   "source": [
    "\n",
    "# 3 korsó probléma\n",
    "---\n",
    "## Állapot tér\n",
    "\n",
    "H1: [0,1,2,3,4,5]\n",
    "H2: [0,1,2,3]\n",
    "H3: [0,1,2]\n",
    "\n",
    "\n",
    "\n",
    "**Kezdő állapot**\n",
    "\n",
    "a0 = [5,0,0]\n",
    "\n",
    "**Cél állapot**\n",
    "* C = [(4,0,1), (4,1,0)]\n",
    "* C = [<a1,a2,a3> | <a1,a2,a3> eleme A^a1 = 4]\n",
    "\n",
    "**Operátorok**\n",
    "* O = [o1.2, o2.1, o3.2, o3.1, o1.3, o2.3]\n",
    "*  *Nem csurdolhat túl*\n",
    "*  m = min(at, max(H<sub>j</sub>))-a<sub>j</sub>)\n",
    "*  b<sub>k</sub> = b1, b2,b3\n",
    "   * ak + m ha k = 1\n",
    "   * ak - m ha k = -1\n",
    "  "
   ]
  },
  {
   "cell_type": "code",
   "execution_count": null,
   "metadata": {},
   "outputs": [],
   "source": []
  },
  {
   "cell_type": "code",
   "execution_count": 5,
   "metadata": {},
   "outputs": [
    {
     "name": "stdout",
     "output_type": "stream",
     "text": [
      "<Node (2, 3, 0)>\n",
      "<Node (2, 1, 2)>\n",
      "<Node (4, 1, 0)>\n",
      "[+] Got it\n"
     ]
    },
    {
     "data": {
      "text/plain": [
       "['5-->3', '3-->2', '2-->5']"
      ]
     },
     "execution_count": 5,
     "metadata": {},
     "output_type": "execute_result"
    }
   ],
   "source": [
    "from cup3 import Cup3\n",
    "from search import trial_error, heuristic,hill_climbin_for_cup3\n",
    "\n",
    "c = Cup3([5,0,0], [(4,1,0), (4,0,1)])\n",
    "c.result(c.initial, \"5-->3\")\n",
    "\n",
    "hill_climbin_for_cup3(c, heuristic).solution()\n",
    "\n"
   ]
  },
  {
   "cell_type": "markdown",
   "metadata": {},
   "source": []
  }
 ],
 "metadata": {
  "kernelspec": {
   "display_name": "Python 3.10.6 64-bit",
   "language": "python",
   "name": "python3"
  },
  "language_info": {
   "codemirror_mode": {
    "name": "ipython",
    "version": 3
   },
   "file_extension": ".py",
   "mimetype": "text/x-python",
   "name": "python",
   "nbconvert_exporter": "python",
   "pygments_lexer": "ipython3",
   "version": "3.10.6"
  },
  "orig_nbformat": 4,
  "vscode": {
   "interpreter": {
    "hash": "916dbcbb3f70747c44a77c7bcd40155683ae19c65e1c03b4aa3499c5328201f1"
   }
  }
 },
 "nbformat": 4,
 "nbformat_minor": 2
}
