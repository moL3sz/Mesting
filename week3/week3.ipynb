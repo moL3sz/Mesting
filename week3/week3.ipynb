{
 "cells": [
  {
   "attachments": {},
   "cell_type": "markdown",
   "metadata": {},
   "source": [
    "# Hanoi Torony\n",
    "\n",
    "\n",
    "## Állapottér repr\n",
    "\n",
    "**Jellemzők**\n",
    "\n",
    "* H1 = {{0}, {1}, {2}, {3},{1,3},{2,3},{1,2},{1,2,3}}\n",
    "* H2 = {{0}, {1}, {2}, {3},{1,3},{2,3},{1,2},{1,2,3}}\n",
    "* H3 = {{0}, {1}, {2}, {3},{1,3},{2,3},{1,2},{1,2,3}}\n",
    "\n",
    "\n",
    "**Kezdő állapot**\n",
    "\n",
    "a<sub>0</sub> = <(1,2,3), 0, 0>\n",
    "\n",
    "**Vég állapot**\n",
    "\n",
    "C = <0, 0, (1,2,3)>\n",
    "\n",
    "**Operátorok**\n",
    "\n",
    "O = {{o<sub>i</sub>, j, k} ∧ | j ∈ {1,2,3} ∧ i != j } ∧ k ∈ {1,2,3} (18db)\n",
    "\n",
    "Dom(o<sub>i</sub>, j, k) = <a1, a2, a3> | <a1, a2, a3> ∈ A ∧ k = min(a<sub>i</sub> ∪ ∞) ∧ k < min(a<sub>j</sub> ∪ ∞)\n",
    "\n",
    "o<sub>i</sub>, j, k<a1, a2, a3> = <b1, b2, b3>\n",
    "\n",
    "B<sub>n</sub>, ahol n = 1,2,3 \n",
    "* an U {k}, ha n = j\n",
    "* an \\ {k}, ha n = i\n",
    "* an egyébként\n"
   ]
  },
  {
   "cell_type": "code",
   "execution_count": 1,
   "metadata": {},
   "outputs": [
    {
     "data": {
      "text/plain": [
       "'Nandini'"
      ]
     },
     "execution_count": 1,
     "metadata": {},
     "output_type": "execute_result"
    }
   ],
   "source": [
    "from collections import namedtuple\n",
    "\n",
    "Student = namedtuple(\"Student\", [\"name\", \"age\", \"DOB\"])\n",
    "s = Student(\"Nandini\", 19, \"24512412\")\n",
    "\n",
    "s.name"
   ]
  },
  {
   "cell_type": "code",
   "execution_count": 2,
   "metadata": {},
   "outputs": [
    {
     "name": "stdout",
     "output_type": "stream",
     "text": [
      "Current state: 111\n",
      "Current state: 211\n",
      "Current state: 111\n",
      "Current state: 211\n",
      "Current state: 231\n",
      "Current state: 131\n",
      "Current state: 331\n",
      "Current state: 131\n",
      "Current state: 331\n",
      "Current state: 332\n",
      "Current state: 132\n",
      "Current state: 332\n",
      "Current state: 232\n",
      "Current state: 332\n",
      "Current state: 132\n",
      "Current state: 122\n",
      "Current state: 222\n",
      "Current state: 122\n",
      "Current state: 132\n",
      "Current state: 332\n",
      "Current state: 132\n",
      "Current state: 332\n",
      "Current state: 331\n",
      "Current state: 332\n",
      "Current state: 132\n",
      "Current state: 122\n",
      "Current state: 132\n",
      "Current state: 232\n",
      "Current state: 332\n",
      "Current state: 232\n",
      "Current state: 132\n",
      "Current state: 332\n",
      "Current state: 331\n",
      "Current state: 231\n",
      "Current state: 211\n",
      "Current state: 231\n",
      "Current state: 131\n",
      "Current state: 121\n",
      "Current state: 131\n",
      "Current state: 331\n",
      "Current state: 231\n",
      "Current state: 131\n",
      "Current state: 121\n",
      "Current state: 321\n",
      "Current state: 221\n",
      "Current state: 223\n",
      "Current state: 123\n",
      "Current state: 133\n",
      "[+] Got it\n"
     ]
    },
    {
     "data": {
      "text/plain": [
       "[State(disk=0, char='2'),\n",
       " State(disk=0, char='1'),\n",
       " State(disk=0, char='2'),\n",
       " State(disk=1, char='3'),\n",
       " State(disk=0, char='1'),\n",
       " State(disk=0, char='3'),\n",
       " State(disk=0, char='1'),\n",
       " State(disk=0, char='3'),\n",
       " State(disk=2, char='2'),\n",
       " State(disk=0, char='1'),\n",
       " State(disk=0, char='3'),\n",
       " State(disk=0, char='2'),\n",
       " State(disk=0, char='3'),\n",
       " State(disk=0, char='1'),\n",
       " State(disk=1, char='2'),\n",
       " State(disk=0, char='2'),\n",
       " State(disk=0, char='1'),\n",
       " State(disk=1, char='3'),\n",
       " State(disk=0, char='3'),\n",
       " State(disk=0, char='1'),\n",
       " State(disk=0, char='3'),\n",
       " State(disk=2, char='1'),\n",
       " State(disk=2, char='2'),\n",
       " State(disk=0, char='1'),\n",
       " State(disk=1, char='2'),\n",
       " State(disk=1, char='3'),\n",
       " State(disk=0, char='2'),\n",
       " State(disk=0, char='3'),\n",
       " State(disk=0, char='2'),\n",
       " State(disk=0, char='1'),\n",
       " State(disk=0, char='3'),\n",
       " State(disk=2, char='1'),\n",
       " State(disk=0, char='2'),\n",
       " State(disk=1, char='1'),\n",
       " State(disk=1, char='3'),\n",
       " State(disk=0, char='1'),\n",
       " State(disk=1, char='2'),\n",
       " State(disk=1, char='3'),\n",
       " State(disk=0, char='3'),\n",
       " State(disk=0, char='2'),\n",
       " State(disk=0, char='1'),\n",
       " State(disk=1, char='2'),\n",
       " State(disk=0, char='3'),\n",
       " State(disk=0, char='2'),\n",
       " State(disk=2, char='3'),\n",
       " State(disk=0, char='1'),\n",
       " State(disk=1, char='3'),\n",
       " State(disk=0, char='3')]"
      ]
     },
     "execution_count": 2,
     "metadata": {},
     "output_type": "execute_result"
    }
   ],
   "source": [
    "from hanoi import Hanoi\n",
    "from search import trial_error\n",
    "\n",
    "h = Hanoi(3)\n",
    "\n",
    "trial_error(h).solution()\n"
   ]
  }
 ],
 "metadata": {
  "kernelspec": {
   "display_name": "Python 3",
   "language": "python",
   "name": "python3"
  },
  "language_info": {
   "codemirror_mode": {
    "name": "ipython",
    "version": 3
   },
   "file_extension": ".py",
   "mimetype": "text/x-python",
   "name": "python",
   "nbconvert_exporter": "python",
   "pygments_lexer": "ipython3",
   "version": "3.10.6"
  },
  "orig_nbformat": 4,
  "vscode": {
   "interpreter": {
    "hash": "916dbcbb3f70747c44a77c7bcd40155683ae19c65e1c03b4aa3499c5328201f1"
   }
  }
 },
 "nbformat": 4,
 "nbformat_minor": 2
}
